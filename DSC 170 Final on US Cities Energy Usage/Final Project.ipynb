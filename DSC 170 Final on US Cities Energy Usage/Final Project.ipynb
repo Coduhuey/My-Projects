{
 "cells": [
  {
   "cell_type": "markdown",
   "metadata": {
    "slideshow": {
     "slide_type": "slide"
    }
   },
   "source": [
    "# Electricity generation in top 1000 cities, focusing on renewable energy"
   ]
  },
  {
   "cell_type": "markdown",
   "metadata": {
    "slideshow": {
     "slide_type": "subslide"
    }
   },
   "source": [
    "#### Team Members: Luis Diaz, Daniel Alemu\n",
    "#### PID: A14029385, A13874961"
   ]
  },
  {
   "cell_type": "markdown",
   "metadata": {
    "slideshow": {
     "slide_type": "subslide"
    }
   },
   "source": [
    "### 2) Questions, why it is important:"
   ]
  },
  {
   "cell_type": "markdown",
   "metadata": {
    "slideshow": {
     "slide_type": "slide"
    }
   },
   "source": [
    "1) In our project we want to see how the top 1000 cities in the US generate their electricity and whether it is from a renewable energy source or not. We want to see if the United States is doing enough to try and convert to more renewable energy sources by looking at the current state of renewable and non-renewable energy sources for various cities and then look at current and future energy projects around these cities to see if they are converting to renewable sources. We will check to see this by seeing how much of their total energy is produced by renewables and if not, how far they are from 100%. We then want to see if coastal cities are doing the most to convert to renewables due to rising sea levels affecting those communities. We plan to see higher renewable energy sources around coastal cities. This is a very important topic, because now humans have been developing new ways to reduce our emissions and reduce the effects of climate change to preserve our planet and lower our environmental impact.\n",
    "\n",
    "2) The business applications of our analysis can be, that businesses can see which cities need more renewable energy sources and try to build them. The type of energy source can also affect businesses when they are deciding their headquarters and buildings and want to reduce their environmental impact. The intended audience of our analysis is lawmakers who could use this information in doing things like deciding funding to build more clean energy sources. It could also be activists and concerned citizens trying to learn more about their communities and what their community is doing to combat the effects of climate change. \n"
   ]
  },
  {
   "cell_type": "markdown",
   "metadata": {
    "slideshow": {
     "slide_type": "skip"
    }
   },
   "source": [
    "### 3) Background and Literature"
   ]
  },
  {
   "cell_type": "markdown",
   "metadata": {},
   "source": [
    "https://www.energymanagertoday.com/us-cities-renewable-energy-0180660/\n",
    "\n",
    "https://www.yaleclimateconnections.org/2019/04/u-s-cities-pledge-to-switch-to-renewables/\n",
    "\n",
    "https://www.energy.gov/maps/renewable-energy-production-state\n",
    "\n",
    "http://css.umich.edu/factsheets/us-renewable-energy-factsheet\n",
    "\n",
    "More and more cities in the United States are committing themselves to goals for renewable energy levels they want to achieve. By doing our analysis we want to see how far off some of these cities are from goals, such as 100% renewable energy commitment. We expect to find that many cities committed to their renewable energy deadlines have already started working on renewable energy sources and have various projects they are working on. The level of commitment might vary by region and we expect the coastal cities committed more to their renewable energy goals as they are mostly affected by the threat of rising sea levels.\n",
    "\n",
    "After looking for new references, we saw that it was impractical to measure the power plants by how close they are to the cities and we changed our plans. We decided to look at the utilities comapnies instead and associated where utilities companies draw their power from and what type of energy it is. We also got the new idea to build a Linear Regression, SVM, and Random Forest to predict the renewable energy level of cities. Some of the variables we can use are the population of the cities, and the latitude/longitude of the cities. We can use this to see how far along cities are in achieving 100% renewable energy.\n"
   ]
  },
  {
   "cell_type": "markdown",
   "metadata": {},
   "source": [
    "### 4) Libraries/ArcGIS modules"
   ]
  },
  {
   "cell_type": "markdown",
   "metadata": {},
   "source": [
    "In our project proposal we imported Pandas, Numpy, GeoPandas and GIS to read in our data and for our initial geospatial analysis on the data. As we continued working we imported a few specific things that weren't on our project proposal like Point from shapely for our data cleaning. I imported dissolve boundaries to turn zip codes into areas that utilities serve. We also imported sklearn and a lot of other functions like OneHotEncoder, Pipeline, and preprocessing to make our LinearRegression, SVM, and RandomForests later in the analysis. We imported some graphing tools like matplotlib, seaborn, and  mpl_toolkits to make graphs and charts for our data."
   ]
  },
  {
   "cell_type": "code",
   "execution_count": 49,
   "metadata": {},
   "outputs": [],
   "source": [
    "import pandas as pd\n",
    "import numpy as np\n",
    "import geopandas as gpd\n",
    "from shapely.geometry import Point\n",
    "from arcgis import *\n",
    "import arcgis\n",
    "from arcgis import GIS\n",
    "from IPython.display import display\n",
    "import matplotlib.pyplot as plt\n",
    "import sklearn\n",
    "from arcgis.features.manage_data import dissolve_boundaries\n",
    "from sklearn.linear_model import LinearRegression\n",
    "from sklearn.compose import ColumnTransformer\n",
    "from sklearn.model_selection import train_test_split\n",
    "from sklearn.pipeline import Pipeline\n",
    "from sklearn.preprocessing import OrdinalEncoder\n",
    "from sklearn.preprocessing import OneHotEncoder\n",
    "from sklearn.metrics import r2_score\n",
    "from sklearn.ensemble import RandomForestRegressor\n",
    "from sklearn.model_selection import GridSearchCV\n",
    "from sklearn import svm\n",
    "from sklearn import preprocessing\n",
    "import seaborn as sns\n",
    "from mpl_toolkits.mplot3d import Axes3D\n"
   ]
  },
  {
   "cell_type": "code",
   "execution_count": 3,
   "metadata": {},
   "outputs": [
    {
     "name": "stdout",
     "output_type": "stream",
     "text": [
      "Enter password: ········\n"
     ]
    }
   ],
   "source": [
    "gis = GIS(username='dalemu_UCSDOnline')"
   ]
  },
  {
   "cell_type": "markdown",
   "metadata": {},
   "source": [
    "### 5) Data Sources"
   ]
  },
  {
   "cell_type": "markdown",
   "metadata": {},
   "source": [
    "1) Data on rising sea levels in US coastal cities: http://usgs.maps.arcgis.com/apps/Cascade/index.html?appid=668f6dc7014d45228c993302d3eab2f5\n",
    "\n",
    "2) Data on the top 1000 US cities by population: https://public.opendatasoft.com/explore/dataset/1000-largest-us-cities-by-population-with-geographic-coordinates/table/?sort=-rank\n",
    "\n",
    "3) Maps on various energy sources in the US: https://www.eia.gov/electricity/data/eia860m/\n",
    "\n",
    "4) Solar Projects in the US: \n",
    "https://www.energy.gov/eere/solar/downloads/solar-projects-download\n",
    "\n",
    "5) zip code data:\n",
    "https://www2.census.gov/geo/tiger/TIGER2018/ZCTA5/\n",
    "\n",
    "6) Electric utilities and ids:https://openei.org/doe-opendata/dataset/011e736e-0aa0-4c73-9dd6-e943e3443d9c"
   ]
  },
  {
   "cell_type": "markdown",
   "metadata": {},
   "source": [
    "\n",
    "Our data sources evolved from our project proposal as we added new sources of data. We ended up not using the solar projects datasets we wrote in our proposal because we did not find a good use for the data. The sea levels datset gave us the coastal cities we can use to analyze. Besides the power plants and cites data from our proposal, we imported zip code data from the government census website. It was difficult finding data for all the zip codes in the United States and the data we imported only has 33,144 entries out of the 42,000 zip codes actually in the US. Even though the data is missing a lot of zip codes we decided to work with it because a lot of the data lost was in remote regions and it had the geometries we were looking for. We also imported the datasets iou (investor owned utilities) and noniou (investor owned utilities) to tell us what utilities serve various zip codes in the US. These utilities associated zip codes to utilities the utilities ids but it also only had 39921 unique zip codes. Our utilities data also only had 1794 unique utility ids while our power plant data has 4398 unique ids. Because of this we are also missing data on some utilities and the zip codes they serve but it is fine because it has a majority of the data we needed. Many of the data we have we turned into feature layers in arcgis and published."
   ]
  },
  {
   "cell_type": "code",
   "execution_count": 4,
   "metadata": {
    "scrolled": false
   },
   "outputs": [
    {
     "data": {
      "text/html": [
       "<div>\n",
       "<style scoped>\n",
       "    .dataframe tbody tr th:only-of-type {\n",
       "        vertical-align: middle;\n",
       "    }\n",
       "\n",
       "    .dataframe tbody tr th {\n",
       "        vertical-align: top;\n",
       "    }\n",
       "\n",
       "    .dataframe thead th {\n",
       "        text-align: right;\n",
       "    }\n",
       "</style>\n",
       "<table border=\"1\" class=\"dataframe\">\n",
       "  <thead>\n",
       "    <tr style=\"text-align: right;\">\n",
       "      <th></th>\n",
       "      <th>Site</th>\n",
       "      <th>PSMSL ID</th>\n",
       "      <th>Latitude</th>\n",
       "      <th>Longitude</th>\n",
       "      <th>Scenario</th>\n",
       "      <th>Background RSL rate (mm/yr)</th>\n",
       "      <th>RSL in 2000 (cm)</th>\n",
       "      <th>RSL in 2010 (cm)</th>\n",
       "      <th>RSL in 2020 (cm)</th>\n",
       "      <th>RSL in 2030 (cm)</th>\n",
       "      <th>RSL in 2040 (cm)</th>\n",
       "      <th>RSL in 2050 (cm)</th>\n",
       "      <th>RSL in 2060 (cm)</th>\n",
       "      <th>RSL in 2070 (cm)</th>\n",
       "      <th>RSL in 2080 (cm)</th>\n",
       "      <th>RSL in 2090 (cm)</th>\n",
       "      <th>RSL in 2100 (cm)</th>\n",
       "      <th>RSL in 2120 (cm)</th>\n",
       "      <th>RSL in 2150 (cm)</th>\n",
       "      <th>RSL in 2200 (cm)</th>\n",
       "    </tr>\n",
       "  </thead>\n",
       "  <tbody>\n",
       "    <tr>\n",
       "      <th>0</th>\n",
       "      <td>GMSL</td>\n",
       "      <td>0</td>\n",
       "      <td>NaN</td>\n",
       "      <td>NaN</td>\n",
       "      <td>0.3 - MED</td>\n",
       "      <td>0.0</td>\n",
       "      <td>0</td>\n",
       "      <td>3</td>\n",
       "      <td>6</td>\n",
       "      <td>9</td>\n",
       "      <td>13</td>\n",
       "      <td>16</td>\n",
       "      <td>19</td>\n",
       "      <td>22</td>\n",
       "      <td>25</td>\n",
       "      <td>28</td>\n",
       "      <td>30</td>\n",
       "      <td>34.0</td>\n",
       "      <td>37.0</td>\n",
       "      <td>39.0</td>\n",
       "    </tr>\n",
       "    <tr>\n",
       "      <th>1</th>\n",
       "      <td>GMSL</td>\n",
       "      <td>0</td>\n",
       "      <td>NaN</td>\n",
       "      <td>NaN</td>\n",
       "      <td>0.3 - LOW</td>\n",
       "      <td>0.0</td>\n",
       "      <td>0</td>\n",
       "      <td>3</td>\n",
       "      <td>5</td>\n",
       "      <td>9</td>\n",
       "      <td>12</td>\n",
       "      <td>15</td>\n",
       "      <td>18</td>\n",
       "      <td>21</td>\n",
       "      <td>24</td>\n",
       "      <td>26</td>\n",
       "      <td>29</td>\n",
       "      <td>30.0</td>\n",
       "      <td>32.0</td>\n",
       "      <td>29.0</td>\n",
       "    </tr>\n",
       "    <tr>\n",
       "      <th>2</th>\n",
       "      <td>GMSL</td>\n",
       "      <td>0</td>\n",
       "      <td>NaN</td>\n",
       "      <td>NaN</td>\n",
       "      <td>0.3 - HIGH</td>\n",
       "      <td>0.0</td>\n",
       "      <td>0</td>\n",
       "      <td>3</td>\n",
       "      <td>6</td>\n",
       "      <td>10</td>\n",
       "      <td>13</td>\n",
       "      <td>17</td>\n",
       "      <td>20</td>\n",
       "      <td>23</td>\n",
       "      <td>26</td>\n",
       "      <td>28</td>\n",
       "      <td>31</td>\n",
       "      <td>42.0</td>\n",
       "      <td>51.0</td>\n",
       "      <td>67.0</td>\n",
       "    </tr>\n",
       "    <tr>\n",
       "      <th>3</th>\n",
       "      <td>GMSL</td>\n",
       "      <td>0</td>\n",
       "      <td>NaN</td>\n",
       "      <td>NaN</td>\n",
       "      <td>0.5 - MED</td>\n",
       "      <td>0.0</td>\n",
       "      <td>0</td>\n",
       "      <td>4</td>\n",
       "      <td>8</td>\n",
       "      <td>13</td>\n",
       "      <td>18</td>\n",
       "      <td>24</td>\n",
       "      <td>29</td>\n",
       "      <td>35</td>\n",
       "      <td>40</td>\n",
       "      <td>45</td>\n",
       "      <td>50</td>\n",
       "      <td>60.0</td>\n",
       "      <td>73.0</td>\n",
       "      <td>95.0</td>\n",
       "    </tr>\n",
       "    <tr>\n",
       "      <th>4</th>\n",
       "      <td>GMSL</td>\n",
       "      <td>0</td>\n",
       "      <td>NaN</td>\n",
       "      <td>NaN</td>\n",
       "      <td>0.5 - LOW</td>\n",
       "      <td>0.0</td>\n",
       "      <td>0</td>\n",
       "      <td>3</td>\n",
       "      <td>7</td>\n",
       "      <td>12</td>\n",
       "      <td>16</td>\n",
       "      <td>22</td>\n",
       "      <td>27</td>\n",
       "      <td>33</td>\n",
       "      <td>38</td>\n",
       "      <td>44</td>\n",
       "      <td>49</td>\n",
       "      <td>56.0</td>\n",
       "      <td>66.0</td>\n",
       "      <td>77.0</td>\n",
       "    </tr>\n",
       "  </tbody>\n",
       "</table>\n",
       "</div>"
      ],
      "text/plain": [
       "   Site  PSMSL ID  Latitude  Longitude    Scenario  \\\n",
       "0  GMSL         0       NaN        NaN   0.3 - MED   \n",
       "1  GMSL         0       NaN        NaN   0.3 - LOW   \n",
       "2  GMSL         0       NaN        NaN  0.3 - HIGH   \n",
       "3  GMSL         0       NaN        NaN   0.5 - MED   \n",
       "4  GMSL         0       NaN        NaN   0.5 - LOW   \n",
       "\n",
       "   Background RSL rate (mm/yr)  RSL in 2000 (cm)  RSL in 2010 (cm)  \\\n",
       "0                          0.0                 0                 3   \n",
       "1                          0.0                 0                 3   \n",
       "2                          0.0                 0                 3   \n",
       "3                          0.0                 0                 4   \n",
       "4                          0.0                 0                 3   \n",
       "\n",
       "   RSL in 2020 (cm)  RSL in 2030 (cm)  RSL in 2040 (cm)  RSL in 2050 (cm)  \\\n",
       "0                 6                 9                13                16   \n",
       "1                 5                 9                12                15   \n",
       "2                 6                10                13                17   \n",
       "3                 8                13                18                24   \n",
       "4                 7                12                16                22   \n",
       "\n",
       "   RSL in 2060 (cm)  RSL in 2070 (cm)  RSL in 2080 (cm)  RSL in 2090 (cm)  \\\n",
       "0                19                22                25                28   \n",
       "1                18                21                24                26   \n",
       "2                20                23                26                28   \n",
       "3                29                35                40                45   \n",
       "4                27                33                38                44   \n",
       "\n",
       "   RSL in 2100 (cm)  RSL in 2120 (cm)  RSL in 2150 (cm)  RSL in 2200 (cm)  \n",
       "0                30              34.0              37.0              39.0  \n",
       "1                29              30.0              32.0              29.0  \n",
       "2                31              42.0              51.0              67.0  \n",
       "3                50              60.0              73.0              95.0  \n",
       "4                49              56.0              66.0              77.0  "
      ]
     },
     "execution_count": 4,
     "metadata": {},
     "output_type": "execute_result"
    }
   ],
   "source": [
    "sea_levels = pd.read_csv('techrpt083.csv', header = 15)\n",
    "sea_levels.head()"
   ]
  },
  {
   "cell_type": "code",
   "execution_count": 5,
   "metadata": {},
   "outputs": [
    {
     "data": {
      "text/html": [
       "<div>\n",
       "<style scoped>\n",
       "    .dataframe tbody tr th:only-of-type {\n",
       "        vertical-align: middle;\n",
       "    }\n",
       "\n",
       "    .dataframe tbody tr th {\n",
       "        vertical-align: top;\n",
       "    }\n",
       "\n",
       "    .dataframe thead th {\n",
       "        text-align: right;\n",
       "    }\n",
       "</style>\n",
       "<table border=\"1\" class=\"dataframe\">\n",
       "  <thead>\n",
       "    <tr style=\"text-align: right;\">\n",
       "      <th></th>\n",
       "      <th>ZCTA5CE10</th>\n",
       "      <th>GEOID10</th>\n",
       "      <th>CLASSFP10</th>\n",
       "      <th>MTFCC10</th>\n",
       "      <th>FUNCSTAT10</th>\n",
       "      <th>ALAND10</th>\n",
       "      <th>AWATER10</th>\n",
       "      <th>INTPTLAT10</th>\n",
       "      <th>INTPTLON10</th>\n",
       "      <th>geometry</th>\n",
       "    </tr>\n",
       "  </thead>\n",
       "  <tbody>\n",
       "    <tr>\n",
       "      <th>0</th>\n",
       "      <td>43451</td>\n",
       "      <td>43451</td>\n",
       "      <td>B5</td>\n",
       "      <td>G6350</td>\n",
       "      <td>S</td>\n",
       "      <td>63484186</td>\n",
       "      <td>157689</td>\n",
       "      <td>+41.3183010</td>\n",
       "      <td>-083.6174935</td>\n",
       "      <td>POLYGON ((-83.708733 41.327326, -83.708147 41....</td>\n",
       "    </tr>\n",
       "    <tr>\n",
       "      <th>1</th>\n",
       "      <td>43452</td>\n",
       "      <td>43452</td>\n",
       "      <td>B5</td>\n",
       "      <td>G6350</td>\n",
       "      <td>S</td>\n",
       "      <td>121501421</td>\n",
       "      <td>13700682</td>\n",
       "      <td>+41.5157923</td>\n",
       "      <td>-082.9809454</td>\n",
       "      <td>POLYGON ((-83.086978 41.537796, -83.0825629999...</td>\n",
       "    </tr>\n",
       "    <tr>\n",
       "      <th>2</th>\n",
       "      <td>43456</td>\n",
       "      <td>43456</td>\n",
       "      <td>B5</td>\n",
       "      <td>G6350</td>\n",
       "      <td>S</td>\n",
       "      <td>9389361</td>\n",
       "      <td>999166</td>\n",
       "      <td>+41.6468445</td>\n",
       "      <td>-082.8226641</td>\n",
       "      <td>(POLYGON ((-82.835577 41.710823, -82.83515 41....</td>\n",
       "    </tr>\n",
       "    <tr>\n",
       "      <th>3</th>\n",
       "      <td>43457</td>\n",
       "      <td>43457</td>\n",
       "      <td>B5</td>\n",
       "      <td>G6350</td>\n",
       "      <td>S</td>\n",
       "      <td>48004681</td>\n",
       "      <td>0</td>\n",
       "      <td>+41.2673301</td>\n",
       "      <td>-083.4274872</td>\n",
       "      <td>POLYGON ((-83.49650299999999 41.253708, -83.48...</td>\n",
       "    </tr>\n",
       "    <tr>\n",
       "      <th>4</th>\n",
       "      <td>43458</td>\n",
       "      <td>43458</td>\n",
       "      <td>B5</td>\n",
       "      <td>G6350</td>\n",
       "      <td>S</td>\n",
       "      <td>2573816</td>\n",
       "      <td>39915</td>\n",
       "      <td>+41.5304461</td>\n",
       "      <td>-083.2133648</td>\n",
       "      <td>POLYGON ((-83.222292 41.531025, -83.2222819999...</td>\n",
       "    </tr>\n",
       "  </tbody>\n",
       "</table>\n",
       "</div>"
      ],
      "text/plain": [
       "  ZCTA5CE10 GEOID10 CLASSFP10 MTFCC10 FUNCSTAT10    ALAND10  AWATER10  \\\n",
       "0     43451   43451        B5   G6350          S   63484186    157689   \n",
       "1     43452   43452        B5   G6350          S  121501421  13700682   \n",
       "2     43456   43456        B5   G6350          S    9389361    999166   \n",
       "3     43457   43457        B5   G6350          S   48004681         0   \n",
       "4     43458   43458        B5   G6350          S    2573816     39915   \n",
       "\n",
       "    INTPTLAT10    INTPTLON10  \\\n",
       "0  +41.3183010  -083.6174935   \n",
       "1  +41.5157923  -082.9809454   \n",
       "2  +41.6468445  -082.8226641   \n",
       "3  +41.2673301  -083.4274872   \n",
       "4  +41.5304461  -083.2133648   \n",
       "\n",
       "                                            geometry  \n",
       "0  POLYGON ((-83.708733 41.327326, -83.708147 41....  \n",
       "1  POLYGON ((-83.086978 41.537796, -83.0825629999...  \n",
       "2  (POLYGON ((-82.835577 41.710823, -82.83515 41....  \n",
       "3  POLYGON ((-83.49650299999999 41.253708, -83.48...  \n",
       "4  POLYGON ((-83.222292 41.531025, -83.2222819999...  "
      ]
     },
     "execution_count": 5,
     "metadata": {},
     "output_type": "execute_result"
    }
   ],
   "source": [
    "zip_codes = gpd.read_file('tl_2018_us_zcta510.shp')\n",
    "zip_codes.head()"
   ]
  },
  {
   "cell_type": "code",
   "execution_count": 6,
   "metadata": {},
   "outputs": [],
   "source": [
    "#shp_file = gis.content.add({'title':'ZipCodesUSA'}, data = 'tl_2018_us_zcta510.zip')\n",
    "#item = shp_file.publish()\n",
    "#item.id\n",
    "item_id = '49fc56d83ddb45159e9fd9e3fe22f48f'"
   ]
  },
  {
   "cell_type": "code",
   "execution_count": 7,
   "metadata": {},
   "outputs": [
    {
     "data": {
      "text/html": [
       "<div class=\"item_container\" style=\"height: auto; overflow: hidden; border: 1px solid #cfcfcf; border-radius: 2px; background: #f6fafa; line-height: 1.21429em; padding: 10px;\">\n",
       "                    <div class=\"item_left\" style=\"width: 210px; float: left;\">\n",
       "                       <a href='https://UCSDOnline.maps.arcgis.com/home/item.html?id=49fc56d83ddb45159e9fd9e3fe22f48f' target='_blank'>\n",
       "                        <img src='http://static.arcgis.com/images/desktopapp.png' class=\"itemThumbnail\">\n",
       "                       </a>\n",
       "                    </div>\n",
       "\n",
       "                    <div class=\"item_right\"     style=\"float: none; width: auto; overflow: hidden;\">\n",
       "                        <a href='https://UCSDOnline.maps.arcgis.com/home/item.html?id=49fc56d83ddb45159e9fd9e3fe22f48f' target='_blank'><b>ZipCodesUSA</b>\n",
       "                        </a>\n",
       "                        <br/><img src='https://UCSDOnline.maps.arcgis.com/home/js/jsapi/esri/css/images/item_type_icons/featureshosted16.png' style=\"vertical-align:middle;\">Feature Layer Collection by lmd003_UCSDOnline6\n",
       "                        <br/>Last Modified: June 02, 2019\n",
       "                        <br/>0 comments, 0 views\n",
       "                    </div>\n",
       "                </div>\n",
       "                "
      ],
      "text/plain": [
       "<Item title:\"ZipCodesUSA\" type:Feature Layer Collection owner:lmd003_UCSDOnline6>"
      ]
     },
     "execution_count": 7,
     "metadata": {},
     "output_type": "execute_result"
    }
   ],
   "source": [
    "zip_code_lyr = gis.content.search(item_id)[0]\n",
    "zip_code_lyr"
   ]
  },
  {
   "cell_type": "code",
   "execution_count": 8,
   "metadata": {},
   "outputs": [
    {
     "data": {
      "text/html": [
       "<div>\n",
       "<style scoped>\n",
       "    .dataframe tbody tr th:only-of-type {\n",
       "        vertical-align: middle;\n",
       "    }\n",
       "\n",
       "    .dataframe tbody tr th {\n",
       "        vertical-align: top;\n",
       "    }\n",
       "\n",
       "    .dataframe thead th {\n",
       "        text-align: right;\n",
       "    }\n",
       "</style>\n",
       "<table border=\"1\" class=\"dataframe\">\n",
       "  <thead>\n",
       "    <tr style=\"text-align: right;\">\n",
       "      <th></th>\n",
       "      <th>Plant_Code</th>\n",
       "      <th>Plant_Name</th>\n",
       "      <th>Utility_Na</th>\n",
       "      <th>Utility_ID</th>\n",
       "      <th>sector_nam</th>\n",
       "      <th>City</th>\n",
       "      <th>County</th>\n",
       "      <th>StateName</th>\n",
       "      <th>Zip</th>\n",
       "      <th>Street_Add</th>\n",
       "      <th>...</th>\n",
       "      <th>Geo_MW</th>\n",
       "      <th>Bat_MW</th>\n",
       "      <th>Other_MW</th>\n",
       "      <th>source_des</th>\n",
       "      <th>tech_desc</th>\n",
       "      <th>Source</th>\n",
       "      <th>Period</th>\n",
       "      <th>Latitude</th>\n",
       "      <th>Longitude</th>\n",
       "      <th>geometry</th>\n",
       "    </tr>\n",
       "  </thead>\n",
       "  <tbody>\n",
       "    <tr>\n",
       "      <th>0</th>\n",
       "      <td>2</td>\n",
       "      <td>Bankhead Dam</td>\n",
       "      <td>Alabama Power Co</td>\n",
       "      <td>195</td>\n",
       "      <td>Electric Utility</td>\n",
       "      <td>Northport</td>\n",
       "      <td>Tuscaloosa</td>\n",
       "      <td>Alabama</td>\n",
       "      <td>35476</td>\n",
       "      <td>19001 Lock 17 Road</td>\n",
       "      <td>...</td>\n",
       "      <td>None</td>\n",
       "      <td>None</td>\n",
       "      <td>None</td>\n",
       "      <td>Hydroelectric = 53 MW</td>\n",
       "      <td>Conventional Hydroelectric</td>\n",
       "      <td>EIA-860, EIA-860M and EIA-923</td>\n",
       "      <td>201901</td>\n",
       "      <td>33.458665</td>\n",
       "      <td>-87.356823</td>\n",
       "      <td>POINT (-87.35682299999996 33.45866500000005)</td>\n",
       "    </tr>\n",
       "    <tr>\n",
       "      <th>1</th>\n",
       "      <td>3</td>\n",
       "      <td>Barry</td>\n",
       "      <td>Alabama Power Co</td>\n",
       "      <td>195</td>\n",
       "      <td>Electric Utility</td>\n",
       "      <td>Bucks</td>\n",
       "      <td>Mobile</td>\n",
       "      <td>Alabama</td>\n",
       "      <td>36512</td>\n",
       "      <td>North Highway 43</td>\n",
       "      <td>...</td>\n",
       "      <td>None</td>\n",
       "      <td>None</td>\n",
       "      <td>None</td>\n",
       "      <td>Coal = 1118.5 MW, Natural Gas = 1217.2 MW</td>\n",
       "      <td>Conventional Steam Coal; Natural Gas Fired Com...</td>\n",
       "      <td>EIA-860, EIA-860M and EIA-923</td>\n",
       "      <td>201901</td>\n",
       "      <td>31.006900</td>\n",
       "      <td>-88.010300</td>\n",
       "      <td>POINT (-88.01029999999997 31.00690000000003)</td>\n",
       "    </tr>\n",
       "    <tr>\n",
       "      <th>2</th>\n",
       "      <td>4</td>\n",
       "      <td>Walter Bouldin Dam</td>\n",
       "      <td>Alabama Power Co</td>\n",
       "      <td>195</td>\n",
       "      <td>Electric Utility</td>\n",
       "      <td>Wetumpka</td>\n",
       "      <td>Elmore</td>\n",
       "      <td>Alabama</td>\n",
       "      <td>36092</td>\n",
       "      <td>750 Bouldin Dam Road</td>\n",
       "      <td>...</td>\n",
       "      <td>None</td>\n",
       "      <td>None</td>\n",
       "      <td>None</td>\n",
       "      <td>Hydroelectric = 224.1 MW</td>\n",
       "      <td>Conventional Hydroelectric</td>\n",
       "      <td>EIA-860, EIA-860M and EIA-923</td>\n",
       "      <td>201901</td>\n",
       "      <td>32.583889</td>\n",
       "      <td>-86.283056</td>\n",
       "      <td>POINT (-86.28305599999999 32.58388900000006)</td>\n",
       "    </tr>\n",
       "    <tr>\n",
       "      <th>3</th>\n",
       "      <td>7</td>\n",
       "      <td>Gadsden</td>\n",
       "      <td>Alabama Power Co</td>\n",
       "      <td>195</td>\n",
       "      <td>Electric Utility</td>\n",
       "      <td>Gadsden</td>\n",
       "      <td>Etowah</td>\n",
       "      <td>Alabama</td>\n",
       "      <td>35903</td>\n",
       "      <td>1000 Goodyear Ave</td>\n",
       "      <td>...</td>\n",
       "      <td>None</td>\n",
       "      <td>None</td>\n",
       "      <td>None</td>\n",
       "      <td>Natural Gas = 130 MW</td>\n",
       "      <td>Natural Gas Steam Turbine</td>\n",
       "      <td>EIA-860, EIA-860M and EIA-923</td>\n",
       "      <td>201901</td>\n",
       "      <td>34.012800</td>\n",
       "      <td>-85.970800</td>\n",
       "      <td>POINT (-85.97079999999994 34.01280000000003)</td>\n",
       "    </tr>\n",
       "    <tr>\n",
       "      <th>4</th>\n",
       "      <td>8</td>\n",
       "      <td>Gorgas</td>\n",
       "      <td>Alabama Power Co</td>\n",
       "      <td>195</td>\n",
       "      <td>Electric Utility</td>\n",
       "      <td>Parrish</td>\n",
       "      <td>Walker</td>\n",
       "      <td>Alabama</td>\n",
       "      <td>35580</td>\n",
       "      <td>460 Gorgas Road</td>\n",
       "      <td>...</td>\n",
       "      <td>None</td>\n",
       "      <td>None</td>\n",
       "      <td>None</td>\n",
       "      <td>Coal = 1062.7 MW</td>\n",
       "      <td>Conventional Steam Coal</td>\n",
       "      <td>EIA-860, EIA-860M and EIA-923</td>\n",
       "      <td>201901</td>\n",
       "      <td>33.644344</td>\n",
       "      <td>-87.196486</td>\n",
       "      <td>POINT (-87.19648599999994 33.64434400000005)</td>\n",
       "    </tr>\n",
       "  </tbody>\n",
       "</table>\n",
       "<p>5 rows × 32 columns</p>\n",
       "</div>"
      ],
      "text/plain": [
       "   Plant_Code          Plant_Name        Utility_Na  Utility_ID  \\\n",
       "0           2        Bankhead Dam  Alabama Power Co         195   \n",
       "1           3               Barry  Alabama Power Co         195   \n",
       "2           4  Walter Bouldin Dam  Alabama Power Co         195   \n",
       "3           7             Gadsden  Alabama Power Co         195   \n",
       "4           8              Gorgas  Alabama Power Co         195   \n",
       "\n",
       "         sector_nam       City      County StateName    Zip  \\\n",
       "0  Electric Utility  Northport  Tuscaloosa   Alabama  35476   \n",
       "1  Electric Utility      Bucks      Mobile   Alabama  36512   \n",
       "2  Electric Utility   Wetumpka      Elmore   Alabama  36092   \n",
       "3  Electric Utility    Gadsden      Etowah   Alabama  35903   \n",
       "4  Electric Utility    Parrish      Walker   Alabama  35580   \n",
       "\n",
       "             Street_Add                      ...                      Geo_MW  \\\n",
       "0    19001 Lock 17 Road                      ...                        None   \n",
       "1      North Highway 43                      ...                        None   \n",
       "2  750 Bouldin Dam Road                      ...                        None   \n",
       "3     1000 Goodyear Ave                      ...                        None   \n",
       "4       460 Gorgas Road                      ...                        None   \n",
       "\n",
       "   Bat_MW  Other_MW                                 source_des  \\\n",
       "0    None      None                      Hydroelectric = 53 MW   \n",
       "1    None      None  Coal = 1118.5 MW, Natural Gas = 1217.2 MW   \n",
       "2    None      None                   Hydroelectric = 224.1 MW   \n",
       "3    None      None                       Natural Gas = 130 MW   \n",
       "4    None      None                           Coal = 1062.7 MW   \n",
       "\n",
       "                                           tech_desc  \\\n",
       "0                         Conventional Hydroelectric   \n",
       "1  Conventional Steam Coal; Natural Gas Fired Com...   \n",
       "2                         Conventional Hydroelectric   \n",
       "3                          Natural Gas Steam Turbine   \n",
       "4                            Conventional Steam Coal   \n",
       "\n",
       "                          Source  Period   Latitude  Longitude  \\\n",
       "0  EIA-860, EIA-860M and EIA-923  201901  33.458665 -87.356823   \n",
       "1  EIA-860, EIA-860M and EIA-923  201901  31.006900 -88.010300   \n",
       "2  EIA-860, EIA-860M and EIA-923  201901  32.583889 -86.283056   \n",
       "3  EIA-860, EIA-860M and EIA-923  201901  34.012800 -85.970800   \n",
       "4  EIA-860, EIA-860M and EIA-923  201901  33.644344 -87.196486   \n",
       "\n",
       "                                       geometry  \n",
       "0  POINT (-87.35682299999996 33.45866500000005)  \n",
       "1  POINT (-88.01029999999997 31.00690000000003)  \n",
       "2  POINT (-86.28305599999999 32.58388900000006)  \n",
       "3  POINT (-85.97079999999994 34.01280000000003)  \n",
       "4  POINT (-87.19648599999994 33.64434400000005)  \n",
       "\n",
       "[5 rows x 32 columns]"
      ]
     },
     "execution_count": 8,
     "metadata": {},
     "output_type": "execute_result"
    }
   ],
   "source": [
    "power_plants = gpd.read_file('PowerPlants_US_201901.shp')\n",
    "power_plants.head()"
   ]
  },
  {
   "cell_type": "code",
   "execution_count": 9,
   "metadata": {},
   "outputs": [],
   "source": [
    "#shp_file = gis.content.add({'title':'US Power Plants'}, data = 'PowerPlants_US_EIA.zip')\n",
    "#item = shp_file.publish()\n",
    "#item.id\n",
    "item_id = '805431fc9ad14434aca0e48f529daefa'"
   ]
  },
  {
   "cell_type": "code",
   "execution_count": 10,
   "metadata": {},
   "outputs": [
    {
     "data": {
      "text/html": [
       "<div class=\"item_container\" style=\"height: auto; overflow: hidden; border: 1px solid #cfcfcf; border-radius: 2px; background: #f6fafa; line-height: 1.21429em; padding: 10px;\">\n",
       "                    <div class=\"item_left\" style=\"width: 210px; float: left;\">\n",
       "                       <a href='https://UCSDOnline.maps.arcgis.com/home/item.html?id=805431fc9ad14434aca0e48f529daefa' target='_blank'>\n",
       "                        <img src='data:image/png;base64,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' width='200' height='133' class=\"itemThumbnail\">\n",
       "                       </a>\n",
       "                    </div>\n",
       "\n",
       "                    <div class=\"item_right\"     style=\"float: none; width: auto; overflow: hidden;\">\n",
       "                        <a href='https://UCSDOnline.maps.arcgis.com/home/item.html?id=805431fc9ad14434aca0e48f529daefa' target='_blank'><b>US Power Plants</b>\n",
       "                        </a>\n",
       "                        <br/>This is a point dataset representing operable electric generating plants in the United States by energy source. This includes plants that are operating, on standby, or short- or long-term out of service. The surveys collect data on all plants with a combined nameplate capacity of 1 MW or more. Source: EIA-860, Annual Electric Generator Report, EIA-860M, Monthly Update to the Annual Electric Generator Report, and EIA-923, Power Plant Operations Report. Data period: January 2019.<img src='https://UCSDOnline.maps.arcgis.com/home/js/jsapi/esri/css/images/item_type_icons/featureshosted16.png' style=\"vertical-align:middle;\">Feature Layer Collection by lmd003_UCSDOnline6\n",
       "                        <br/>Last Modified: June 02, 2019\n",
       "                        <br/>0 comments, 0 views\n",
       "                    </div>\n",
       "                </div>\n",
       "                "
      ],
      "text/plain": [
       "<Item title:\"US Power Plants\" type:Feature Layer Collection owner:lmd003_UCSDOnline6>"
      ]
     },
     "execution_count": 10,
     "metadata": {},
     "output_type": "execute_result"
    }
   ],
   "source": [
    "power_plants_lyr = gis.content.search(item_id)[0]\n",
    "power_plants_lyr"
   ]
  },
  {
   "cell_type": "code",
   "execution_count": 11,
   "metadata": {},
   "outputs": [
    {
     "data": {
      "text/html": [
       "<div>\n",
       "<style scoped>\n",
       "    .dataframe tbody tr th:only-of-type {\n",
       "        vertical-align: middle;\n",
       "    }\n",
       "\n",
       "    .dataframe tbody tr th {\n",
       "        vertical-align: top;\n",
       "    }\n",
       "\n",
       "    .dataframe thead th {\n",
       "        text-align: right;\n",
       "    }\n",
       "</style>\n",
       "<table border=\"1\" class=\"dataframe\">\n",
       "  <thead>\n",
       "    <tr style=\"text-align: right;\">\n",
       "      <th></th>\n",
       "      <th>Project_Title</th>\n",
       "      <th>Awardees</th>\n",
       "      <th>CID</th>\n",
       "      <th>SUBPROGRAM</th>\n",
       "      <th>SUBPROGRAM_NODE</th>\n",
       "      <th>Award_Type</th>\n",
       "      <th>FOA_NAME</th>\n",
       "      <th>FOA_Acronym</th>\n",
       "      <th>Status</th>\n",
       "      <th>Award_Start_Date</th>\n",
       "      <th>...</th>\n",
       "      <th>Total_Government_Share</th>\n",
       "      <th>Cost_Share</th>\n",
       "      <th>City</th>\n",
       "      <th>State</th>\n",
       "      <th>Zip_Code</th>\n",
       "      <th>Node</th>\n",
       "      <th>Latitude</th>\n",
       "      <th>Longitude</th>\n",
       "      <th>Principal_Investigator</th>\n",
       "      <th>Project_Description</th>\n",
       "    </tr>\n",
       "  </thead>\n",
       "  <tbody>\n",
       "    <tr>\n",
       "      <th>0</th>\n",
       "      <td>Project Silicon: Reclaiming U.S. Silicon PV Le...</td>\n",
       "      <td>1366 Technologies</td>\n",
       "      <td>EE0005737</td>\n",
       "      <td>Technology to Market</td>\n",
       "      <td>node/928446</td>\n",
       "      <td>Funding Opportunity</td>\n",
       "      <td>Scaling Up Nascent PV AT Home</td>\n",
       "      <td>SunPath</td>\n",
       "      <td>Inactive</td>\n",
       "      <td>2012-09-01 00:00:00</td>\n",
       "      <td>...</td>\n",
       "      <td>6999959</td>\n",
       "      <td>20999877</td>\n",
       "      <td>Lexington</td>\n",
       "      <td>MA</td>\n",
       "      <td>02420-0001</td>\n",
       "      <td>node/791051</td>\n",
       "      <td>42.460908</td>\n",
       "      <td>-71.222083</td>\n",
       "      <td>Adam Lorenz</td>\n",
       "      <td>A $7 million federal award complemented $21 m...</td>\n",
       "    </tr>\n",
       "    <tr>\n",
       "      <th>1</th>\n",
       "      <td>Enabling Automation for &lt;$0.10/W High-Efficien...</td>\n",
       "      <td>1366 Technologies</td>\n",
       "      <td>EE0006808</td>\n",
       "      <td>Technology to Market</td>\n",
       "      <td>node/928446</td>\n",
       "      <td>Funding Opportunity</td>\n",
       "      <td>Solar Manufacturing Technology 2</td>\n",
       "      <td>SolarMat 2</td>\n",
       "      <td>Inactive</td>\n",
       "      <td>2015-04-01 00:00:00</td>\n",
       "      <td>...</td>\n",
       "      <td>1000000</td>\n",
       "      <td>1000000</td>\n",
       "      <td>Lexington</td>\n",
       "      <td>MA</td>\n",
       "      <td>02420-0001</td>\n",
       "      <td>node/973806</td>\n",
       "      <td>42.460908</td>\n",
       "      <td>-71.222083</td>\n",
       "      <td>Adam Lorenz</td>\n",
       "      <td>1366 Technologies is demonstrating the potenti...</td>\n",
       "    </tr>\n",
       "    <tr>\n",
       "      <th>2</th>\n",
       "      <td>The Self Aligned Cell: Scaling Up Manufacture ...</td>\n",
       "      <td>1366 Technologies</td>\n",
       "      <td>NREL/SR-5200-49934</td>\n",
       "      <td>Technology to Market</td>\n",
       "      <td>node/928446</td>\n",
       "      <td>Funding Opportunity</td>\n",
       "      <td>Incubator 2</td>\n",
       "      <td>Incubator 2</td>\n",
       "      <td>Inactive</td>\n",
       "      <td>NaN</td>\n",
       "      <td>...</td>\n",
       "      <td>3000000</td>\n",
       "      <td>NaN</td>\n",
       "      <td>Lexington</td>\n",
       "      <td>MA</td>\n",
       "      <td>02420-0001</td>\n",
       "      <td>node/791011</td>\n",
       "      <td>42.460908</td>\n",
       "      <td>-71.222083</td>\n",
       "      <td>Andrew Gabor</td>\n",
       "      <td>Under the contract, 1366 Technologies develope...</td>\n",
       "    </tr>\n",
       "    <tr>\n",
       "      <th>3</th>\n",
       "      <td>Kerfless Silicon Precursor Wafer Formed by Rap...</td>\n",
       "      <td>1366 Technologies</td>\n",
       "      <td>NaN</td>\n",
       "      <td>Technology to Market</td>\n",
       "      <td>node/928446</td>\n",
       "      <td>Funding Opportunity</td>\n",
       "      <td>NREL ARRA PV Technology Pre-Incubator Awards</td>\n",
       "      <td>Pre-Incubator</td>\n",
       "      <td>Inactive</td>\n",
       "      <td>2009-10-01 00:00:00</td>\n",
       "      <td>...</td>\n",
       "      <td>500000</td>\n",
       "      <td>NaN</td>\n",
       "      <td>Lexington</td>\n",
       "      <td>MA</td>\n",
       "      <td>02420-0001</td>\n",
       "      <td>node/791011</td>\n",
       "      <td>42.460908</td>\n",
       "      <td>-71.222083</td>\n",
       "      <td>Adam Lorenz</td>\n",
       "      <td>Standard wafer manufacturing involves a multis...</td>\n",
       "    </tr>\n",
       "    <tr>\n",
       "      <th>4</th>\n",
       "      <td>Next-Generation Solar Collectors for CSP</td>\n",
       "      <td>3M Company</td>\n",
       "      <td>EE0005795</td>\n",
       "      <td>Concentrating Solar Power</td>\n",
       "      <td>node/790241</td>\n",
       "      <td>Funding Opportunity</td>\n",
       "      <td>SunShot Concentrating Solar Power R&amp;D</td>\n",
       "      <td>CSP SunShot R&amp;D</td>\n",
       "      <td>Inactive</td>\n",
       "      <td>2012-09-01 00:00:00</td>\n",
       "      <td>...</td>\n",
       "      <td>4126217</td>\n",
       "      <td>4886359</td>\n",
       "      <td>St. Paul</td>\n",
       "      <td>MN</td>\n",
       "      <td>55144-1000</td>\n",
       "      <td>node/790606</td>\n",
       "      <td>44.950801</td>\n",
       "      <td>-92.996073</td>\n",
       "      <td>Attila Molnar</td>\n",
       "      <td>3M Company, under the 2012 SunShot Concentrati...</td>\n",
       "    </tr>\n",
       "  </tbody>\n",
       "</table>\n",
       "<p>5 rows × 21 columns</p>\n",
       "</div>"
      ],
      "text/plain": [
       "                                       Project_Title           Awardees  \\\n",
       "0  Project Silicon: Reclaiming U.S. Silicon PV Le...  1366 Technologies   \n",
       "1  Enabling Automation for <$0.10/W High-Efficien...  1366 Technologies   \n",
       "2  The Self Aligned Cell: Scaling Up Manufacture ...  1366 Technologies   \n",
       "3  Kerfless Silicon Precursor Wafer Formed by Rap...  1366 Technologies   \n",
       "4           Next-Generation Solar Collectors for CSP         3M Company   \n",
       "\n",
       "                  CID                 SUBPROGRAM SUBPROGRAM_NODE  \\\n",
       "0           EE0005737       Technology to Market     node/928446   \n",
       "1           EE0006808       Technology to Market     node/928446   \n",
       "2  NREL/SR-5200-49934       Technology to Market     node/928446   \n",
       "3                 NaN       Technology to Market     node/928446   \n",
       "4           EE0005795  Concentrating Solar Power     node/790241   \n",
       "\n",
       "            Award_Type                                      FOA_NAME  \\\n",
       "0  Funding Opportunity                 Scaling Up Nascent PV AT Home   \n",
       "1  Funding Opportunity              Solar Manufacturing Technology 2   \n",
       "2  Funding Opportunity                                   Incubator 2   \n",
       "3  Funding Opportunity  NREL ARRA PV Technology Pre-Incubator Awards   \n",
       "4  Funding Opportunity         SunShot Concentrating Solar Power R&D   \n",
       "\n",
       "       FOA_Acronym    Status     Award_Start_Date  \\\n",
       "0          SunPath  Inactive  2012-09-01 00:00:00   \n",
       "1       SolarMat 2  Inactive  2015-04-01 00:00:00   \n",
       "2      Incubator 2  Inactive                  NaN   \n",
       "3    Pre-Incubator  Inactive  2009-10-01 00:00:00   \n",
       "4  CSP SunShot R&D  Inactive  2012-09-01 00:00:00   \n",
       "\n",
       "                         ...                         Total_Government_Share  \\\n",
       "0                        ...                                        6999959   \n",
       "1                        ...                                        1000000   \n",
       "2                        ...                                        3000000   \n",
       "3                        ...                                         500000   \n",
       "4                        ...                                        4126217   \n",
       "\n",
       "  Cost_Share       City State    Zip_Code         Node   Latitude  Longitude  \\\n",
       "0   20999877  Lexington    MA  02420-0001  node/791051  42.460908 -71.222083   \n",
       "1    1000000  Lexington    MA  02420-0001  node/973806  42.460908 -71.222083   \n",
       "2        NaN  Lexington    MA  02420-0001  node/791011  42.460908 -71.222083   \n",
       "3        NaN  Lexington    MA  02420-0001  node/791011  42.460908 -71.222083   \n",
       "4    4886359   St. Paul    MN  55144-1000  node/790606  44.950801 -92.996073   \n",
       "\n",
       "   Principal_Investigator                                Project_Description  \n",
       "0             Adam Lorenz   A $7 million federal award complemented $21 m...  \n",
       "1             Adam Lorenz  1366 Technologies is demonstrating the potenti...  \n",
       "2            Andrew Gabor  Under the contract, 1366 Technologies develope...  \n",
       "3             Adam Lorenz  Standard wafer manufacturing involves a multis...  \n",
       "4           Attila Molnar  3M Company, under the 2012 SunShot Concentrati...  \n",
       "\n",
       "[5 rows x 21 columns]"
      ]
     },
     "execution_count": 11,
     "metadata": {},
     "output_type": "execute_result"
    }
   ],
   "source": [
    "solar_projects = pd.read_excel('solar_projects_01_24_2019.xlsx')\n",
    "solar_projects.head()"
   ]
  },
  {
   "cell_type": "code",
   "execution_count": 12,
   "metadata": {},
   "outputs": [
    {
     "data": {
      "text/html": [
       "<div>\n",
       "<style scoped>\n",
       "    .dataframe tbody tr th:only-of-type {\n",
       "        vertical-align: middle;\n",
       "    }\n",
       "\n",
       "    .dataframe tbody tr th {\n",
       "        vertical-align: top;\n",
       "    }\n",
       "\n",
       "    .dataframe thead th {\n",
       "        text-align: right;\n",
       "    }\n",
       "</style>\n",
       "<table border=\"1\" class=\"dataframe\">\n",
       "  <thead>\n",
       "    <tr style=\"text-align: right;\">\n",
       "      <th></th>\n",
       "      <th>city</th>\n",
       "      <th>rank</th>\n",
       "      <th>state</th>\n",
       "      <th>growth_from</th>\n",
       "      <th>population</th>\n",
       "      <th>geometry</th>\n",
       "    </tr>\n",
       "  </thead>\n",
       "  <tbody>\n",
       "    <tr>\n",
       "      <th>0</th>\n",
       "      <td>Enid</td>\n",
       "      <td>727.0</td>\n",
       "      <td>Oklahoma</td>\n",
       "      <td>8.1</td>\n",
       "      <td>50725.0</td>\n",
       "      <td>POINT (-97.8783911 36.3955891)</td>\n",
       "    </tr>\n",
       "    <tr>\n",
       "      <th>1</th>\n",
       "      <td>San Jose</td>\n",
       "      <td>10.0</td>\n",
       "      <td>California</td>\n",
       "      <td>10.5</td>\n",
       "      <td>998537.0</td>\n",
       "      <td>POINT (-121.8863286 37.3382082)</td>\n",
       "    </tr>\n",
       "    <tr>\n",
       "      <th>2</th>\n",
       "      <td>Round Rock</td>\n",
       "      <td>251.0</td>\n",
       "      <td>Texas</td>\n",
       "      <td>81.0</td>\n",
       "      <td>109821.0</td>\n",
       "      <td>POINT (-97.67889599999999 30.5082551)</td>\n",
       "    </tr>\n",
       "    <tr>\n",
       "      <th>3</th>\n",
       "      <td>Maple Grove</td>\n",
       "      <td>531.0</td>\n",
       "      <td>Minnesota</td>\n",
       "      <td>27.3</td>\n",
       "      <td>65415.0</td>\n",
       "      <td>POINT (-93.4557877 45.0724642)</td>\n",
       "    </tr>\n",
       "    <tr>\n",
       "      <th>4</th>\n",
       "      <td>Norman</td>\n",
       "      <td>225.0</td>\n",
       "      <td>Oklahoma</td>\n",
       "      <td>22.0</td>\n",
       "      <td>118197.0</td>\n",
       "      <td>POINT (-97.4394777 35.2225668)</td>\n",
       "    </tr>\n",
       "  </tbody>\n",
       "</table>\n",
       "</div>"
      ],
      "text/plain": [
       "          city   rank       state  growth_from  population  \\\n",
       "0         Enid  727.0    Oklahoma          8.1     50725.0   \n",
       "1     San Jose   10.0  California         10.5    998537.0   \n",
       "2   Round Rock  251.0       Texas         81.0    109821.0   \n",
       "3  Maple Grove  531.0   Minnesota         27.3     65415.0   \n",
       "4       Norman  225.0    Oklahoma         22.0    118197.0   \n",
       "\n",
       "                                geometry  \n",
       "0         POINT (-97.8783911 36.3955891)  \n",
       "1        POINT (-121.8863286 37.3382082)  \n",
       "2  POINT (-97.67889599999999 30.5082551)  \n",
       "3         POINT (-93.4557877 45.0724642)  \n",
       "4         POINT (-97.4394777 35.2225668)  "
      ]
     },
     "execution_count": 12,
     "metadata": {},
     "output_type": "execute_result"
    }
   ],
   "source": [
    "cities = gpd.read_file('1000-largest-us-cities-by-population-with-geographic-coordinates.shp')\n",
    "cities.head()"
   ]
  },
  {
   "cell_type": "code",
   "execution_count": 13,
   "metadata": {},
   "outputs": [
    {
     "data": {
      "text/html": [
       "<div>\n",
       "<style scoped>\n",
       "    .dataframe tbody tr th:only-of-type {\n",
       "        vertical-align: middle;\n",
       "    }\n",
       "\n",
       "    .dataframe tbody tr th {\n",
       "        vertical-align: top;\n",
       "    }\n",
       "\n",
       "    .dataframe thead th {\n",
       "        text-align: right;\n",
       "    }\n",
       "</style>\n",
       "<table border=\"1\" class=\"dataframe\">\n",
       "  <thead>\n",
       "    <tr style=\"text-align: right;\">\n",
       "      <th></th>\n",
       "      <th>zip</th>\n",
       "      <th>eiaid</th>\n",
       "      <th>utility_name</th>\n",
       "      <th>state</th>\n",
       "      <th>service_type</th>\n",
       "      <th>ownership</th>\n",
       "      <th>comm_rate</th>\n",
       "      <th>ind_rate</th>\n",
       "      <th>res_rate</th>\n",
       "    </tr>\n",
       "  </thead>\n",
       "  <tbody>\n",
       "    <tr>\n",
       "      <th>0</th>\n",
       "      <td>85321</td>\n",
       "      <td>176</td>\n",
       "      <td>Ajo Improvement Co</td>\n",
       "      <td>AZ</td>\n",
       "      <td>Bundled</td>\n",
       "      <td>Investor Owned</td>\n",
       "      <td>0.096925</td>\n",
       "      <td>0.088462</td>\n",
       "      <td>0.101581</td>\n",
       "    </tr>\n",
       "    <tr>\n",
       "      <th>1</th>\n",
       "      <td>35218</td>\n",
       "      <td>195</td>\n",
       "      <td>Alabama Power Co</td>\n",
       "      <td>AL</td>\n",
       "      <td>Bundled</td>\n",
       "      <td>Investor Owned</td>\n",
       "      <td>0.111275</td>\n",
       "      <td>0.061426</td>\n",
       "      <td>0.122035</td>\n",
       "    </tr>\n",
       "    <tr>\n",
       "      <th>2</th>\n",
       "      <td>35219</td>\n",
       "      <td>195</td>\n",
       "      <td>Alabama Power Co</td>\n",
       "      <td>AL</td>\n",
       "      <td>Bundled</td>\n",
       "      <td>Investor Owned</td>\n",
       "      <td>0.111275</td>\n",
       "      <td>0.061426</td>\n",
       "      <td>0.122035</td>\n",
       "    </tr>\n",
       "    <tr>\n",
       "      <th>3</th>\n",
       "      <td>35214</td>\n",
       "      <td>195</td>\n",
       "      <td>Alabama Power Co</td>\n",
       "      <td>AL</td>\n",
       "      <td>Bundled</td>\n",
       "      <td>Investor Owned</td>\n",
       "      <td>0.111275</td>\n",
       "      <td>0.061426</td>\n",
       "      <td>0.122035</td>\n",
       "    </tr>\n",
       "    <tr>\n",
       "      <th>4</th>\n",
       "      <td>35215</td>\n",
       "      <td>195</td>\n",
       "      <td>Alabama Power Co</td>\n",
       "      <td>AL</td>\n",
       "      <td>Bundled</td>\n",
       "      <td>Investor Owned</td>\n",
       "      <td>0.111275</td>\n",
       "      <td>0.061426</td>\n",
       "      <td>0.122035</td>\n",
       "    </tr>\n",
       "  </tbody>\n",
       "</table>\n",
       "</div>"
      ],
      "text/plain": [
       "     zip  eiaid        utility_name state service_type       ownership  \\\n",
       "0  85321    176  Ajo Improvement Co    AZ      Bundled  Investor Owned   \n",
       "1  35218    195    Alabama Power Co    AL      Bundled  Investor Owned   \n",
       "2  35219    195    Alabama Power Co    AL      Bundled  Investor Owned   \n",
       "3  35214    195    Alabama Power Co    AL      Bundled  Investor Owned   \n",
       "4  35215    195    Alabama Power Co    AL      Bundled  Investor Owned   \n",
       "\n",
       "   comm_rate  ind_rate  res_rate  \n",
       "0   0.096925  0.088462  0.101581  \n",
       "1   0.111275  0.061426  0.122035  \n",
       "2   0.111275  0.061426  0.122035  \n",
       "3   0.111275  0.061426  0.122035  \n",
       "4   0.111275  0.061426  0.122035  "
      ]
     },
     "execution_count": 13,
     "metadata": {},
     "output_type": "execute_result"
    }
   ],
   "source": [
    "iou = pd.read_csv('iouzipcodes2015.csv')\n",
    "iou.head()"
   ]
  },
  {
   "cell_type": "code",
   "execution_count": 14,
   "metadata": {},
   "outputs": [
    {
     "data": {
      "text/html": [
       "<div>\n",
       "<style scoped>\n",
       "    .dataframe tbody tr th:only-of-type {\n",
       "        vertical-align: middle;\n",
       "    }\n",
       "\n",
       "    .dataframe tbody tr th {\n",
       "        vertical-align: top;\n",
       "    }\n",
       "\n",
       "    .dataframe thead th {\n",
       "        text-align: right;\n",
       "    }\n",
       "</style>\n",
       "<table border=\"1\" class=\"dataframe\">\n",
       "  <thead>\n",
       "    <tr style=\"text-align: right;\">\n",
       "      <th></th>\n",
       "      <th>zip</th>\n",
       "      <th>eiaid</th>\n",
       "      <th>utility_name</th>\n",
       "      <th>state</th>\n",
       "      <th>service_type</th>\n",
       "      <th>ownership</th>\n",
       "      <th>comm_rate</th>\n",
       "      <th>ind_rate</th>\n",
       "      <th>res_rate</th>\n",
       "    </tr>\n",
       "  </thead>\n",
       "  <tbody>\n",
       "    <tr>\n",
       "      <th>0</th>\n",
       "      <td>38858</td>\n",
       "      <td>55</td>\n",
       "      <td>City of Aberdeen - (MS)</td>\n",
       "      <td>MS</td>\n",
       "      <td>Bundled</td>\n",
       "      <td>Municipal</td>\n",
       "      <td>0.108123</td>\n",
       "      <td>0.051382</td>\n",
       "      <td>0.110196</td>\n",
       "    </tr>\n",
       "    <tr>\n",
       "      <th>1</th>\n",
       "      <td>39730</td>\n",
       "      <td>55</td>\n",
       "      <td>City of Aberdeen - (MS)</td>\n",
       "      <td>MS</td>\n",
       "      <td>Bundled</td>\n",
       "      <td>Municipal</td>\n",
       "      <td>0.108123</td>\n",
       "      <td>0.051382</td>\n",
       "      <td>0.110196</td>\n",
       "    </tr>\n",
       "    <tr>\n",
       "      <th>2</th>\n",
       "      <td>70510</td>\n",
       "      <td>59</td>\n",
       "      <td>City of Abbeville - (LA)</td>\n",
       "      <td>LA</td>\n",
       "      <td>Bundled</td>\n",
       "      <td>Municipal</td>\n",
       "      <td>0.110181</td>\n",
       "      <td>0.086184</td>\n",
       "      <td>0.104306</td>\n",
       "    </tr>\n",
       "    <tr>\n",
       "      <th>3</th>\n",
       "      <td>21824</td>\n",
       "      <td>84</td>\n",
       "      <td>A &amp; N Electric Coop</td>\n",
       "      <td>MD</td>\n",
       "      <td>Bundled</td>\n",
       "      <td>Cooperative</td>\n",
       "      <td>0.129740</td>\n",
       "      <td>0.000000</td>\n",
       "      <td>0.123743</td>\n",
       "    </tr>\n",
       "    <tr>\n",
       "      <th>4</th>\n",
       "      <td>21851</td>\n",
       "      <td>84</td>\n",
       "      <td>A &amp; N Electric Coop</td>\n",
       "      <td>MD</td>\n",
       "      <td>Bundled</td>\n",
       "      <td>Cooperative</td>\n",
       "      <td>0.129740</td>\n",
       "      <td>0.000000</td>\n",
       "      <td>0.123743</td>\n",
       "    </tr>\n",
       "  </tbody>\n",
       "</table>\n",
       "</div>"
      ],
      "text/plain": [
       "     zip  eiaid              utility_name state service_type    ownership  \\\n",
       "0  38858     55   City of Aberdeen - (MS)    MS      Bundled    Municipal   \n",
       "1  39730     55   City of Aberdeen - (MS)    MS      Bundled    Municipal   \n",
       "2  70510     59  City of Abbeville - (LA)    LA      Bundled    Municipal   \n",
       "3  21824     84       A & N Electric Coop    MD      Bundled  Cooperative   \n",
       "4  21851     84       A & N Electric Coop    MD      Bundled  Cooperative   \n",
       "\n",
       "   comm_rate  ind_rate  res_rate  \n",
       "0   0.108123  0.051382  0.110196  \n",
       "1   0.108123  0.051382  0.110196  \n",
       "2   0.110181  0.086184  0.104306  \n",
       "3   0.129740  0.000000  0.123743  \n",
       "4   0.129740  0.000000  0.123743  "
      ]
     },
     "execution_count": 14,
     "metadata": {},
     "output_type": "execute_result"
    }
   ],
   "source": [
    "noniou = pd.read_csv('noniouzipcodes2015.csv')\n",
    "noniou.head()"
   ]
  },
  {
   "cell_type": "markdown",
   "metadata": {},
   "source": [
    "### 6) Data Cleaning"
   ]
  },
  {
   "cell_type": "markdown",
   "metadata": {},
   "source": [
    "We realized we had to clean some of our data after introspecting the data. We by making the sea levels dataset a geodataframe by giving it a geometry based on its latitude and longitude points (We ended up not needing to use the geometry of this dataset). Next we concatenated the two utility datasets (iou and noniou) into one dataset of all the utilities in the US. Once we had that, we merged our zip codes and utilities datasets to make one giant dataframe and we dropped any missing geometries that might have existed to the zip codes not existing in our zip codes data. We then turned it into a geodataframe and dropped unused columns. We then turned this geodatframe into a feature layer in GIS. After that we made a new feature layer on the dissolved areas that had the same ID. When we wrote the proposal we didn't expect we had to clean as much of the data that we did."
   ]
  },
  {
   "cell_type": "code",
   "execution_count": 15,
   "metadata": {},
   "outputs": [
    {
     "data": {
      "text/html": [
       "<div>\n",
       "<style scoped>\n",
       "    .dataframe tbody tr th:only-of-type {\n",
       "        vertical-align: middle;\n",
       "    }\n",
       "\n",
       "    .dataframe tbody tr th {\n",
       "        vertical-align: top;\n",
       "    }\n",
       "\n",
       "    .dataframe thead th {\n",
       "        text-align: right;\n",
       "    }\n",
       "</style>\n",
       "<table border=\"1\" class=\"dataframe\">\n",
       "  <thead>\n",
       "    <tr style=\"text-align: right;\">\n",
       "      <th></th>\n",
       "      <th>index</th>\n",
       "      <th>Site</th>\n",
       "      <th>PSMSL ID</th>\n",
       "      <th>Latitude</th>\n",
       "      <th>Longitude</th>\n",
       "      <th>Scenario</th>\n",
       "      <th>Background RSL rate (mm/yr)</th>\n",
       "      <th>RSL in 2000 (cm)</th>\n",
       "      <th>RSL in 2010 (cm)</th>\n",
       "      <th>RSL in 2020 (cm)</th>\n",
       "      <th>...</th>\n",
       "      <th>RSL in 2050 (cm)</th>\n",
       "      <th>RSL in 2060 (cm)</th>\n",
       "      <th>RSL in 2070 (cm)</th>\n",
       "      <th>RSL in 2080 (cm)</th>\n",
       "      <th>RSL in 2090 (cm)</th>\n",
       "      <th>RSL in 2100 (cm)</th>\n",
       "      <th>RSL in 2120 (cm)</th>\n",
       "      <th>RSL in 2150 (cm)</th>\n",
       "      <th>RSL in 2200 (cm)</th>\n",
       "      <th>Coordinates</th>\n",
       "    </tr>\n",
       "  </thead>\n",
       "  <tbody>\n",
       "    <tr>\n",
       "      <th>18</th>\n",
       "      <td>18</td>\n",
       "      <td>SAN FRANCISCO</td>\n",
       "      <td>10</td>\n",
       "      <td>37.81</td>\n",
       "      <td>-122.47</td>\n",
       "      <td>0.3 - MED</td>\n",
       "      <td>-0.07</td>\n",
       "      <td>0</td>\n",
       "      <td>3</td>\n",
       "      <td>6</td>\n",
       "      <td>...</td>\n",
       "      <td>17</td>\n",
       "      <td>21</td>\n",
       "      <td>25</td>\n",
       "      <td>28</td>\n",
       "      <td>31</td>\n",
       "      <td>34</td>\n",
       "      <td>40.0</td>\n",
       "      <td>47.0</td>\n",
       "      <td>53.0</td>\n",
       "      <td>POINT (-122.47 37.81)</td>\n",
       "    </tr>\n",
       "    <tr>\n",
       "      <th>19</th>\n",
       "      <td>19</td>\n",
       "      <td>SAN FRANCISCO</td>\n",
       "      <td>10</td>\n",
       "      <td>37.81</td>\n",
       "      <td>-122.47</td>\n",
       "      <td>0.3 - LOW</td>\n",
       "      <td>-0.16</td>\n",
       "      <td>0</td>\n",
       "      <td>1</td>\n",
       "      <td>3</td>\n",
       "      <td>...</td>\n",
       "      <td>10</td>\n",
       "      <td>13</td>\n",
       "      <td>15</td>\n",
       "      <td>17</td>\n",
       "      <td>19</td>\n",
       "      <td>19</td>\n",
       "      <td>23.0</td>\n",
       "      <td>25.0</td>\n",
       "      <td>17.0</td>\n",
       "      <td>POINT (-122.47 37.81)</td>\n",
       "    </tr>\n",
       "    <tr>\n",
       "      <th>20</th>\n",
       "      <td>20</td>\n",
       "      <td>SAN FRANCISCO</td>\n",
       "      <td>10</td>\n",
       "      <td>37.81</td>\n",
       "      <td>-122.47</td>\n",
       "      <td>0.3 - HIGH</td>\n",
       "      <td>0.02</td>\n",
       "      <td>0</td>\n",
       "      <td>4</td>\n",
       "      <td>8</td>\n",
       "      <td>...</td>\n",
       "      <td>23</td>\n",
       "      <td>28</td>\n",
       "      <td>33</td>\n",
       "      <td>38</td>\n",
       "      <td>43</td>\n",
       "      <td>49</td>\n",
       "      <td>55.0</td>\n",
       "      <td>65.0</td>\n",
       "      <td>83.0</td>\n",
       "      <td>POINT (-122.47 37.81)</td>\n",
       "    </tr>\n",
       "    <tr>\n",
       "      <th>21</th>\n",
       "      <td>21</td>\n",
       "      <td>SAN FRANCISCO</td>\n",
       "      <td>10</td>\n",
       "      <td>37.81</td>\n",
       "      <td>-122.47</td>\n",
       "      <td>0.5 - MED</td>\n",
       "      <td>-0.07</td>\n",
       "      <td>0</td>\n",
       "      <td>3</td>\n",
       "      <td>8</td>\n",
       "      <td>...</td>\n",
       "      <td>22</td>\n",
       "      <td>28</td>\n",
       "      <td>33</td>\n",
       "      <td>38</td>\n",
       "      <td>43</td>\n",
       "      <td>48</td>\n",
       "      <td>56.0</td>\n",
       "      <td>70.0</td>\n",
       "      <td>92.0</td>\n",
       "      <td>POINT (-122.47 37.81)</td>\n",
       "    </tr>\n",
       "    <tr>\n",
       "      <th>22</th>\n",
       "      <td>22</td>\n",
       "      <td>SAN FRANCISCO</td>\n",
       "      <td>10</td>\n",
       "      <td>37.81</td>\n",
       "      <td>-122.47</td>\n",
       "      <td>0.5 - LOW</td>\n",
       "      <td>-0.16</td>\n",
       "      <td>0</td>\n",
       "      <td>2</td>\n",
       "      <td>5</td>\n",
       "      <td>...</td>\n",
       "      <td>17</td>\n",
       "      <td>21</td>\n",
       "      <td>26</td>\n",
       "      <td>31</td>\n",
       "      <td>36</td>\n",
       "      <td>38</td>\n",
       "      <td>46.0</td>\n",
       "      <td>52.0</td>\n",
       "      <td>57.0</td>\n",
       "      <td>POINT (-122.47 37.81)</td>\n",
       "    </tr>\n",
       "  </tbody>\n",
       "</table>\n",
       "<p>5 rows × 22 columns</p>\n",
       "</div>"
      ],
      "text/plain": [
       "    index           Site  PSMSL ID  Latitude  Longitude    Scenario  \\\n",
       "18     18  SAN FRANCISCO        10     37.81    -122.47   0.3 - MED   \n",
       "19     19  SAN FRANCISCO        10     37.81    -122.47   0.3 - LOW   \n",
       "20     20  SAN FRANCISCO        10     37.81    -122.47  0.3 - HIGH   \n",
       "21     21  SAN FRANCISCO        10     37.81    -122.47   0.5 - MED   \n",
       "22     22  SAN FRANCISCO        10     37.81    -122.47   0.5 - LOW   \n",
       "\n",
       "    Background RSL rate (mm/yr)  RSL in 2000 (cm)  RSL in 2010 (cm)  \\\n",
       "18                        -0.07                 0                 3   \n",
       "19                        -0.16                 0                 1   \n",
       "20                         0.02                 0                 4   \n",
       "21                        -0.07                 0                 3   \n",
       "22                        -0.16                 0                 2   \n",
       "\n",
       "    RSL in 2020 (cm)          ...            RSL in 2050 (cm)  \\\n",
       "18                 6          ...                          17   \n",
       "19                 3          ...                          10   \n",
       "20                 8          ...                          23   \n",
       "21                 8          ...                          22   \n",
       "22                 5          ...                          17   \n",
       "\n",
       "    RSL in 2060 (cm)  RSL in 2070 (cm)  RSL in 2080 (cm)  RSL in 2090 (cm)  \\\n",
       "18                21                25                28                31   \n",
       "19                13                15                17                19   \n",
       "20                28                33                38                43   \n",
       "21                28                33                38                43   \n",
       "22                21                26                31                36   \n",
       "\n",
       "    RSL in 2100 (cm)  RSL in 2120 (cm)  RSL in 2150 (cm)  RSL in 2200 (cm)  \\\n",
       "18                34              40.0              47.0              53.0   \n",
       "19                19              23.0              25.0              17.0   \n",
       "20                49              55.0              65.0              83.0   \n",
       "21                48              56.0              70.0              92.0   \n",
       "22                38              46.0              52.0              57.0   \n",
       "\n",
       "              Coordinates  \n",
       "18  POINT (-122.47 37.81)  \n",
       "19  POINT (-122.47 37.81)  \n",
       "20  POINT (-122.47 37.81)  \n",
       "21  POINT (-122.47 37.81)  \n",
       "22  POINT (-122.47 37.81)  \n",
       "\n",
       "[5 rows x 22 columns]"
      ]
     },
     "execution_count": 15,
     "metadata": {},
     "output_type": "execute_result"
    }
   ],
   "source": [
    "sea_levels['Coordinates'] = list(zip(sea_levels.Longitude, sea_levels.Latitude))\n",
    "sea_levels['Coordinates'] = sea_levels['Coordinates'].apply(Point)\n",
    "sea_levels = gpd.GeoDataFrame(sea_levels, geometry='Coordinates').reset_index()\n",
    "sea_levels = sea_levels.dropna(subset = ['Latitude'])\n",
    "sea_levels.head()"
   ]
  },
  {
   "cell_type": "code",
   "execution_count": 16,
   "metadata": {},
   "outputs": [
    {
     "data": {
      "text/html": [
       "<div>\n",
       "<style scoped>\n",
       "    .dataframe tbody tr th:only-of-type {\n",
       "        vertical-align: middle;\n",
       "    }\n",
       "\n",
       "    .dataframe tbody tr th {\n",
       "        vertical-align: top;\n",
       "    }\n",
       "\n",
       "    .dataframe thead th {\n",
       "        text-align: right;\n",
       "    }\n",
       "</style>\n",
       "<table border=\"1\" class=\"dataframe\">\n",
       "  <thead>\n",
       "    <tr style=\"text-align: right;\">\n",
       "      <th></th>\n",
       "      <th>zip</th>\n",
       "      <th>eiaid</th>\n",
       "      <th>utility_name</th>\n",
       "      <th>state</th>\n",
       "      <th>service_type</th>\n",
       "      <th>ownership</th>\n",
       "      <th>comm_rate</th>\n",
       "      <th>ind_rate</th>\n",
       "      <th>res_rate</th>\n",
       "    </tr>\n",
       "  </thead>\n",
       "  <tbody>\n",
       "    <tr>\n",
       "      <th>0</th>\n",
       "      <td>85321</td>\n",
       "      <td>176</td>\n",
       "      <td>Ajo Improvement Co</td>\n",
       "      <td>AZ</td>\n",
       "      <td>Bundled</td>\n",
       "      <td>Investor Owned</td>\n",
       "      <td>0.096925</td>\n",
       "      <td>0.088462</td>\n",
       "      <td>0.101581</td>\n",
       "    </tr>\n",
       "    <tr>\n",
       "      <th>1</th>\n",
       "      <td>35218</td>\n",
       "      <td>195</td>\n",
       "      <td>Alabama Power Co</td>\n",
       "      <td>AL</td>\n",
       "      <td>Bundled</td>\n",
       "      <td>Investor Owned</td>\n",
       "      <td>0.111275</td>\n",
       "      <td>0.061426</td>\n",
       "      <td>0.122035</td>\n",
       "    </tr>\n",
       "    <tr>\n",
       "      <th>2</th>\n",
       "      <td>35219</td>\n",
       "      <td>195</td>\n",
       "      <td>Alabama Power Co</td>\n",
       "      <td>AL</td>\n",
       "      <td>Bundled</td>\n",
       "      <td>Investor Owned</td>\n",
       "      <td>0.111275</td>\n",
       "      <td>0.061426</td>\n",
       "      <td>0.122035</td>\n",
       "    </tr>\n",
       "    <tr>\n",
       "      <th>3</th>\n",
       "      <td>35214</td>\n",
       "      <td>195</td>\n",
       "      <td>Alabama Power Co</td>\n",
       "      <td>AL</td>\n",
       "      <td>Bundled</td>\n",
       "      <td>Investor Owned</td>\n",
       "      <td>0.111275</td>\n",
       "      <td>0.061426</td>\n",
       "      <td>0.122035</td>\n",
       "    </tr>\n",
       "    <tr>\n",
       "      <th>4</th>\n",
       "      <td>35215</td>\n",
       "      <td>195</td>\n",
       "      <td>Alabama Power Co</td>\n",
       "      <td>AL</td>\n",
       "      <td>Bundled</td>\n",
       "      <td>Investor Owned</td>\n",
       "      <td>0.111275</td>\n",
       "      <td>0.061426</td>\n",
       "      <td>0.122035</td>\n",
       "    </tr>\n",
       "  </tbody>\n",
       "</table>\n",
       "</div>"
      ],
      "text/plain": [
       "     zip  eiaid        utility_name state service_type       ownership  \\\n",
       "0  85321    176  Ajo Improvement Co    AZ      Bundled  Investor Owned   \n",
       "1  35218    195    Alabama Power Co    AL      Bundled  Investor Owned   \n",
       "2  35219    195    Alabama Power Co    AL      Bundled  Investor Owned   \n",
       "3  35214    195    Alabama Power Co    AL      Bundled  Investor Owned   \n",
       "4  35215    195    Alabama Power Co    AL      Bundled  Investor Owned   \n",
       "\n",
       "   comm_rate  ind_rate  res_rate  \n",
       "0   0.096925  0.088462  0.101581  \n",
       "1   0.111275  0.061426  0.122035  \n",
       "2   0.111275  0.061426  0.122035  \n",
       "3   0.111275  0.061426  0.122035  \n",
       "4   0.111275  0.061426  0.122035  "
      ]
     },
     "execution_count": 16,
     "metadata": {},
     "output_type": "execute_result"
    }
   ],
   "source": [
    "utilities = pd.concat([iou, noniou], ignore_index= True)\n",
    "utilities.head()"
   ]
  },
  {
   "cell_type": "code",
   "execution_count": 17,
   "metadata": {},
   "outputs": [
    {
     "data": {
      "text/html": [
       "<div>\n",
       "<style scoped>\n",
       "    .dataframe tbody tr th:only-of-type {\n",
       "        vertical-align: middle;\n",
       "    }\n",
       "\n",
       "    .dataframe tbody tr th {\n",
       "        vertical-align: top;\n",
       "    }\n",
       "\n",
       "    .dataframe thead th {\n",
       "        text-align: right;\n",
       "    }\n",
       "</style>\n",
       "<table border=\"1\" class=\"dataframe\">\n",
       "  <thead>\n",
       "    <tr style=\"text-align: right;\">\n",
       "      <th></th>\n",
       "      <th>index</th>\n",
       "      <th>zip</th>\n",
       "      <th>eiaid</th>\n",
       "      <th>utility_name</th>\n",
       "      <th>state</th>\n",
       "      <th>service_type</th>\n",
       "      <th>ownership</th>\n",
       "      <th>geometry</th>\n",
       "    </tr>\n",
       "  </thead>\n",
       "  <tbody>\n",
       "    <tr>\n",
       "      <th>0</th>\n",
       "      <td>0</td>\n",
       "      <td>85321</td>\n",
       "      <td>176</td>\n",
       "      <td>Ajo Improvement Co</td>\n",
       "      <td>AZ</td>\n",
       "      <td>Bundled</td>\n",
       "      <td>Investor Owned</td>\n",
       "      <td>POLYGON ((-113.085228 32.200353, -113.083393 3...</td>\n",
       "    </tr>\n",
       "    <tr>\n",
       "      <th>1</th>\n",
       "      <td>1</td>\n",
       "      <td>35218</td>\n",
       "      <td>195</td>\n",
       "      <td>Alabama Power Co</td>\n",
       "      <td>AL</td>\n",
       "      <td>Bundled</td>\n",
       "      <td>Investor Owned</td>\n",
       "      <td>POLYGON ((-86.911491 33.50122, -86.91058699999...</td>\n",
       "    </tr>\n",
       "    <tr>\n",
       "      <th>2</th>\n",
       "      <td>3</td>\n",
       "      <td>35214</td>\n",
       "      <td>195</td>\n",
       "      <td>Alabama Power Co</td>\n",
       "      <td>AL</td>\n",
       "      <td>Bundled</td>\n",
       "      <td>Investor Owned</td>\n",
       "      <td>POLYGON ((-86.942674 33.570016, -86.941514 33....</td>\n",
       "    </tr>\n",
       "    <tr>\n",
       "      <th>3</th>\n",
       "      <td>4</td>\n",
       "      <td>35215</td>\n",
       "      <td>195</td>\n",
       "      <td>Alabama Power Co</td>\n",
       "      <td>AL</td>\n",
       "      <td>Bundled</td>\n",
       "      <td>Investor Owned</td>\n",
       "      <td>POLYGON ((-86.771626 33.643336, -86.770518 33....</td>\n",
       "    </tr>\n",
       "    <tr>\n",
       "      <th>4</th>\n",
       "      <td>5</td>\n",
       "      <td>35216</td>\n",
       "      <td>195</td>\n",
       "      <td>Alabama Power Co</td>\n",
       "      <td>AL</td>\n",
       "      <td>Bundled</td>\n",
       "      <td>Investor Owned</td>\n",
       "      <td>POLYGON ((-86.813869 33.444376, -86.813705 33....</td>\n",
       "    </tr>\n",
       "  </tbody>\n",
       "</table>\n",
       "</div>"
      ],
      "text/plain": [
       "   index    zip  eiaid        utility_name state service_type       ownership  \\\n",
       "0      0  85321    176  Ajo Improvement Co    AZ      Bundled  Investor Owned   \n",
       "1      1  35218    195    Alabama Power Co    AL      Bundled  Investor Owned   \n",
       "2      3  35214    195    Alabama Power Co    AL      Bundled  Investor Owned   \n",
       "3      4  35215    195    Alabama Power Co    AL      Bundled  Investor Owned   \n",
       "4      5  35216    195    Alabama Power Co    AL      Bundled  Investor Owned   \n",
       "\n",
       "                                            geometry  \n",
       "0  POLYGON ((-113.085228 32.200353, -113.083393 3...  \n",
       "1  POLYGON ((-86.911491 33.50122, -86.91058699999...  \n",
       "2  POLYGON ((-86.942674 33.570016, -86.941514 33....  \n",
       "3  POLYGON ((-86.771626 33.643336, -86.770518 33....  \n",
       "4  POLYGON ((-86.813869 33.444376, -86.813705 33....  "
      ]
     },
     "execution_count": 17,
     "metadata": {},
     "output_type": "execute_result"
    }
   ],
   "source": [
    "zip_codes['ZCTA5CE10'] = pd.to_numeric(zip_codes['ZCTA5CE10'])\n",
    "zips_ids = utilities.merge(zip_codes, left_on = 'zip',right_on = 'ZCTA5CE10', how = 'left').dropna(subset = ['geometry']).reset_index()\n",
    "zips_ids = gpd.GeoDataFrame(zips_ids, geometry = 'geometry')\n",
    "zips_ids = zips_ids.drop(['comm_rate', 'ind_rate', 'res_rate', 'ZCTA5CE10',\n",
    "       'GEOID10', 'CLASSFP10', 'MTFCC10', 'FUNCSTAT10', 'ALAND10', 'AWATER10',\n",
    "       'INTPTLAT10', 'INTPTLON10'], axis = 1)\n",
    "zips_ids.head()"
   ]
  },
  {
   "cell_type": "code",
   "execution_count": 18,
   "metadata": {},
   "outputs": [],
   "source": [
    "# Saving our geopandas dataframe as a shapefile\n",
    "#zips_ids.to_file('zips_ids.shp')"
   ]
  },
  {
   "cell_type": "code",
   "execution_count": 19,
   "metadata": {},
   "outputs": [],
   "source": [
    "#shp_file = gis.content.add({'title':'Utilities'}, data = 'zips_ids.zip')\n",
    "#item = shp_file.publish()\n",
    "#item.id\n",
    "item_id = '036c6a0edd3f436488d062d0caffb93f'"
   ]
  },
  {
   "cell_type": "code",
   "execution_count": 20,
   "metadata": {},
   "outputs": [
    {
     "data": {
      "text/html": [
       "<div class=\"item_container\" style=\"height: auto; overflow: hidden; border: 1px solid #cfcfcf; border-radius: 2px; background: #f6fafa; line-height: 1.21429em; padding: 10px;\">\n",
       "                    <div class=\"item_left\" style=\"width: 210px; float: left;\">\n",
       "                       <a href='https://UCSDOnline.maps.arcgis.com/home/item.html?id=036c6a0edd3f436488d062d0caffb93f' target='_blank'>\n",
       "                        <img src='http://static.arcgis.com/images/desktopapp.png' class=\"itemThumbnail\">\n",
       "                       </a>\n",
       "                    </div>\n",
       "\n",
       "                    <div class=\"item_right\"     style=\"float: none; width: auto; overflow: hidden;\">\n",
       "                        <a href='https://UCSDOnline.maps.arcgis.com/home/item.html?id=036c6a0edd3f436488d062d0caffb93f' target='_blank'><b>Utilities</b>\n",
       "                        </a>\n",
       "                        <br/><img src='https://UCSDOnline.maps.arcgis.com/home/js/jsapi/esri/css/images/item_type_icons/featureshosted16.png' style=\"vertical-align:middle;\">Feature Layer Collection by lmd003_UCSDOnline6\n",
       "                        <br/>Last Modified: June 04, 2019\n",
       "                        <br/>0 comments, 5 views\n",
       "                    </div>\n",
       "                </div>\n",
       "                "
      ],
      "text/plain": [
       "<Item title:\"Utilities\" type:Feature Layer Collection owner:lmd003_UCSDOnline6>"
      ]
     },
     "execution_count": 20,
     "metadata": {},
     "output_type": "execute_result"
    }
   ],
   "source": [
    "id_lyr = gis.content.search(item_id)[0]\n",
    "id_lyr"
   ]
  },
  {
   "cell_type": "code",
   "execution_count": 21,
   "metadata": {},
   "outputs": [],
   "source": [
    "#dissolved = dissolve_boundaries(id_lyr, dissolve_fields = [\"eiaid\"], output_name='DissolvedIDLayers ld')\n",
    "item_id = '467ba22dce2b45c680bf2d2900a11484'"
   ]
  },
  {
   "cell_type": "code",
   "execution_count": 22,
   "metadata": {},
   "outputs": [
    {
     "data": {
      "text/html": [
       "<div class=\"item_container\" style=\"height: auto; overflow: hidden; border: 1px solid #cfcfcf; border-radius: 2px; background: #f6fafa; line-height: 1.21429em; padding: 10px;\">\n",
       "                    <div class=\"item_left\" style=\"width: 210px; float: left;\">\n",
       "                       <a href='https://UCSDOnline.maps.arcgis.com/home/item.html?id=467ba22dce2b45c680bf2d2900a11484' target='_blank'>\n",
       "                        <img src='data:image/png;base64,iVBORw0KGgoAAAANSUhEUgAAAMgAAACFCAYAAAAenrcsAAABGUlEQVR42u3TAQ0AAAzCMPybBgU38LQSliwFTpEADAIGAYOAQcAgYBAwCBgEDAIYBAwCBgGDgEHAIGAQMAgYBAwCGAQMAgYBg4BBwCBgEDAIGAQwCBgEDAIGAYOAQcAgYBAwCBgEMAgYBAwCBgGDgEHAIGAQMAhgEDAIGAQMAgYBg4BBwCBgEDAIYBAwCBgEDAIGAYOAQcAgYBDAIGAQMAgYBAwCBgGDgEHAIGAQwCBgEDAIGAQMAgYBg4BBwCBgEAnAIGAQMAgYBAwCBgGDgEHAIIBBwCBgEDAIGAQMAgYBg4BBwCCAQcAgYBAwCBgEDAIGAYOAQQCDgEHAIGAQMAgYBAwCBgGDgEEAg4BBwCBgEDAIGAQMAu8MNFIYo2feTFIAAAAASUVORK5CYII=' width='200' height='133' class=\"itemThumbnail\">\n",
       "                       </a>\n",
       "                    </div>\n",
       "\n",
       "                    <div class=\"item_right\"     style=\"float: none; width: auto; overflow: hidden;\">\n",
       "                        <a href='https://UCSDOnline.maps.arcgis.com/home/item.html?id=467ba22dce2b45c680bf2d2900a11484' target='_blank'><b>DissolvedIDLayers ld</b>\n",
       "                        </a>\n",
       "                        <br/><img src='https://UCSDOnline.maps.arcgis.com/home/js/jsapi/esri/css/images/item_type_icons/featureshosted16.png' style=\"vertical-align:middle;\">Feature Layer Collection by lmd003_UCSDOnline6\n",
       "                        <br/>Last Modified: June 06, 2019\n",
       "                        <br/>0 comments, 20 views\n",
       "                    </div>\n",
       "                </div>\n",
       "                "
      ],
      "text/plain": [
       "<Item title:\"DissolvedIDLayers ld\" type:Feature Layer Collection owner:lmd003_UCSDOnline6>"
      ]
     },
     "execution_count": 22,
     "metadata": {},
     "output_type": "execute_result"
    }
   ],
   "source": [
    "dissolved_lyr = gis.content.search(item_id)[0]\n",
    "dissolved_lyr"
   ]
  },
  {
   "cell_type": "code",
   "execution_count": 23,
   "metadata": {},
   "outputs": [],
   "source": [
    "#shp_file = gis.content.add({'title':'US Top 1000 cities'}, data = '1000-largest-us-cities-by-population-with-geographic-coordinates.zip')\n",
    "#item = shp_file.publish()\n",
    "#item.id\n",
    "item_id = '6eb17a61fdb24ec9b83deeff520da19a'"
   ]
  },
  {
   "cell_type": "code",
   "execution_count": 24,
   "metadata": {},
   "outputs": [
    {
     "data": {
      "text/html": [
       "<div class=\"item_container\" style=\"height: auto; overflow: hidden; border: 1px solid #cfcfcf; border-radius: 2px; background: #f6fafa; line-height: 1.21429em; padding: 10px;\">\n",
       "                    <div class=\"item_left\" style=\"width: 210px; float: left;\">\n",
       "                       <a href='https://UCSDOnline.maps.arcgis.com/home/item.html?id=6eb17a61fdb24ec9b83deeff520da19a' target='_blank'>\n",
       "                        <img src='http://static.arcgis.com/images/desktopapp.png' class=\"itemThumbnail\">\n",
       "                       </a>\n",
       "                    </div>\n",
       "\n",
       "                    <div class=\"item_right\"     style=\"float: none; width: auto; overflow: hidden;\">\n",
       "                        <a href='https://UCSDOnline.maps.arcgis.com/home/item.html?id=6eb17a61fdb24ec9b83deeff520da19a' target='_blank'><b>US Top 1000 cities</b>\n",
       "                        </a>\n",
       "                        <br/><img src='https://UCSDOnline.maps.arcgis.com/home/js/jsapi/esri/css/images/item_type_icons/featureshosted16.png' style=\"vertical-align:middle;\">Feature Layer Collection by lmd003_UCSDOnline6\n",
       "                        <br/>Last Modified: June 05, 2019\n",
       "                        <br/>0 comments, 3 views\n",
       "                    </div>\n",
       "                </div>\n",
       "                "
      ],
      "text/plain": [
       "<Item title:\"US Top 1000 cities\" type:Feature Layer Collection owner:lmd003_UCSDOnline6>"
      ]
     },
     "execution_count": 24,
     "metadata": {},
     "output_type": "execute_result"
    }
   ],
   "source": [
    "cities_lyr = gis.content.search(item_id)[0]\n",
    "cities_lyr"
   ]
  },
  {
   "cell_type": "markdown",
   "metadata": {},
   "source": [
    "### 7) Descriptive Statistics"
   ]
  },
  {
   "cell_type": "markdown",
   "metadata": {},
   "source": [
    "Looking for spatial autocorrelation isn't very relevant to the theme of our project. In our project spatial autocorrelation didn't matter as we were trying to build areas for the utilities and see where the utilities got there power from."
   ]
  },
  {
   "cell_type": "code",
   "execution_count": 25,
   "metadata": {},
   "outputs": [
    {
     "name": "stdout",
     "output_type": "stream",
     "text": [
      "Total Energy from all our power plants in the US: 1104061.3 MW\n",
      "Mean Energy from all our power plants in the US: 120.15032103602134 MW\n"
     ]
    }
   ],
   "source": [
    "print('Total Energy from all our power plants in the US:', power_plants['Total_MW'].sum(), 'MW')\n",
    "print('Mean Energy from all our power plants in the US:', power_plants['Total_MW'].mean(), 'MW')"
   ]
  },
  {
   "cell_type": "code",
   "execution_count": 26,
   "metadata": {},
   "outputs": [
    {
     "name": "stdout",
     "output_type": "stream",
     "text": [
      "We have 9189 power plants in our data\n"
     ]
    }
   ],
   "source": [
    "print('We have', len(power_plants), 'power plants in our data')"
   ]
  },
  {
   "cell_type": "code",
   "execution_count": 27,
   "metadata": {},
   "outputs": [
    {
     "name": "stdout",
     "output_type": "stream",
     "text": [
      "We considered 6066 power plants as being renewable\n"
     ]
    }
   ],
   "source": [
    "renewable_src = ['biomass', 'solar','wind', 'geothermal', 'hydroelectric', 'pumped storage']\n",
    "non_renewable_src = ['natural gas', 'coal', 'nuclear', 'petroleum', 'other','batteries']\n",
    "lst = [1 if i in renewable_src else 0 for i in power_plants['PrimSource']]\n",
    "print('We considered', pd.Series(lst).sum(), 'power plants as being renewable') "
   ]
  },
  {
   "cell_type": "code",
   "execution_count": 28,
   "metadata": {},
   "outputs": [
    {
     "name": "stdout",
     "output_type": "stream",
     "text": [
      "Utilities has  1794 unique ids\n",
      "Power Plants has 4398 unique ids\n"
     ]
    }
   ],
   "source": [
    "print('Utilities has ', utilities.eiaid.nunique(), 'unique ids')\n",
    "print('Power Plants has', power_plants.Utility_ID.nunique(), 'unique ids')"
   ]
  },
  {
   "cell_type": "markdown",
   "metadata": {},
   "source": [
    "### 8) Analysis"
   ]
  },
  {
   "cell_type": "markdown",
   "metadata": {},
   "source": [
    "#### 500 word reflections\n",
    "We first started by defining our renewable and nonrenewable power plants. We labeled ['biomass', 'solar','wind', 'geothermal', 'hydroelectric', 'pumped storage'] as renewable and ['natural gas', 'coal', 'nuclear', 'petroleum', 'other','batteries'] as nonrenewable resources. We made an assumption and labelled power plants as renewable or not by the primary source of energy they produced and didn't seperate all the different types of energy that plants could produce. After that we grouped our power plants based on the utility they serve and whether they are renewable and summed up their energy production. This became a dataframe we called energy. After that we added a column calld 'ratio' to energy that is the renewable energy over the total energy. Then we reset the index of this dataset and merge it based on their utility ids with the zips_and_ids dataset we created during our data cleaning and call this merged dataset big_group. Now that we have this dataset we set its crs to that of our cities dataset ({'init': 'epsg:4326'}). We then make a spatial join between our big group and cities to find which utility area cities fall under, and call this new dataset big_one. We then add the columns 'x' and 'y' that are its longitude and latitude respectively by taking it from its geometry. This will be used for our linear regression. Now that we have this big group dataset we can find the mean renewable energy and we find it to be about 32%. We then seperate cities as coastal if they were in the sea levels dataset. We take their mean and find it to be about 23%.\n",
    "\n",
    "The classifiers used were the support vector machine regressor, random forest regressor, and a basic linear regressor. First we wanted to see if a city's characteristics would predict if the city used renewable energy, using predictors of city population, city growth, and rank of the city. That however didn't see to be the case with our data, the linear regression classifier fitted with this model gave a score of -596.6562267146905. Then we decided to use a cities location, the predictors were longitude, latitude, state to city's left, and state to city's right. This model worked much better with a score of 0.5003432186922063. Using these predictors we trained the support vector machine model and the random forest regressor. The random forest regressor didn't do very well and only scored 0.4976969571021066. But the support vector machine model had the best score of all the model with 0.6258948814300161."
   ]
  },
  {
   "cell_type": "code",
   "execution_count": 29,
   "metadata": {},
   "outputs": [
    {
     "data": {
      "text/html": [
       "<div>\n",
       "<style scoped>\n",
       "    .dataframe tbody tr th:only-of-type {\n",
       "        vertical-align: middle;\n",
       "    }\n",
       "\n",
       "    .dataframe tbody tr th {\n",
       "        vertical-align: top;\n",
       "    }\n",
       "\n",
       "    .dataframe thead th {\n",
       "        text-align: right;\n",
       "    }\n",
       "</style>\n",
       "<table border=\"1\" class=\"dataframe\">\n",
       "  <thead>\n",
       "    <tr style=\"text-align: right;\">\n",
       "      <th>Renew</th>\n",
       "      <th>0</th>\n",
       "      <th>1</th>\n",
       "    </tr>\n",
       "    <tr>\n",
       "      <th>Utility_ID</th>\n",
       "      <th></th>\n",
       "      <th></th>\n",
       "    </tr>\n",
       "  </thead>\n",
       "  <tbody>\n",
       "    <tr>\n",
       "      <th>7</th>\n",
       "      <td>62.0</td>\n",
       "      <td>0.0</td>\n",
       "    </tr>\n",
       "    <tr>\n",
       "      <th>8</th>\n",
       "      <td>7.4</td>\n",
       "      <td>0.0</td>\n",
       "    </tr>\n",
       "    <tr>\n",
       "      <th>21</th>\n",
       "      <td>320.0</td>\n",
       "      <td>0.0</td>\n",
       "    </tr>\n",
       "    <tr>\n",
       "      <th>25</th>\n",
       "      <td>104.5</td>\n",
       "      <td>0.0</td>\n",
       "    </tr>\n",
       "    <tr>\n",
       "      <th>34</th>\n",
       "      <td>0.0</td>\n",
       "      <td>3.6</td>\n",
       "    </tr>\n",
       "  </tbody>\n",
       "</table>\n",
       "</div>"
      ],
      "text/plain": [
       "Renew           0    1\n",
       "Utility_ID            \n",
       "7            62.0  0.0\n",
       "8             7.4  0.0\n",
       "21          320.0  0.0\n",
       "25          104.5  0.0\n",
       "34            0.0  3.6"
      ]
     },
     "execution_count": 29,
     "metadata": {},
     "output_type": "execute_result"
    }
   ],
   "source": [
    "renewable_src = ['biomass', 'solar','wind', 'geothermal', 'hydroelectric', 'pumped storage']\n",
    "non_renewable_src = ['natural gas', 'coal', 'nuclear', 'petroleum', 'other','batteries']\n",
    "power_plants_copy = power_plants.copy()\n",
    "lst = [1 if i in renewable_src else 0 for i in power_plants['PrimSource']]\n",
    "power_plants_copy['Renew'] = pd.Series(lst)\n",
    "energy = pd.DataFrame(power_plants_copy.groupby([\"Utility_ID\", \"Renew\"])['Total_MW'].sum()).unstack().fillna(0)\n",
    "energy = energy['Total_MW']\n",
    "energy.head()"
   ]
  },
  {
   "cell_type": "code",
   "execution_count": 30,
   "metadata": {},
   "outputs": [
    {
     "data": {
      "text/html": [
       "<div>\n",
       "<style scoped>\n",
       "    .dataframe tbody tr th:only-of-type {\n",
       "        vertical-align: middle;\n",
       "    }\n",
       "\n",
       "    .dataframe tbody tr th {\n",
       "        vertical-align: top;\n",
       "    }\n",
       "\n",
       "    .dataframe thead th {\n",
       "        text-align: right;\n",
       "    }\n",
       "</style>\n",
       "<table border=\"1\" class=\"dataframe\">\n",
       "  <thead>\n",
       "    <tr style=\"text-align: right;\">\n",
       "      <th></th>\n",
       "      <th>index</th>\n",
       "      <th>zip</th>\n",
       "      <th>eiaid</th>\n",
       "      <th>utility_name</th>\n",
       "      <th>state</th>\n",
       "      <th>service_type</th>\n",
       "      <th>ownership</th>\n",
       "      <th>geometry</th>\n",
       "      <th>Utility_ID</th>\n",
       "      <th>0</th>\n",
       "      <th>1</th>\n",
       "      <th>clean_energy_ratio</th>\n",
       "    </tr>\n",
       "  </thead>\n",
       "  <tbody>\n",
       "    <tr>\n",
       "      <th>0</th>\n",
       "      <td>1</td>\n",
       "      <td>35218</td>\n",
       "      <td>195</td>\n",
       "      <td>Alabama Power Co</td>\n",
       "      <td>AL</td>\n",
       "      <td>Bundled</td>\n",
       "      <td>Investor Owned</td>\n",
       "      <td>POLYGON ((-86.911491 33.50122, -86.91058699999...</td>\n",
       "      <td>195</td>\n",
       "      <td>11592.4</td>\n",
       "      <td>1712.2</td>\n",
       "      <td>0.128692</td>\n",
       "    </tr>\n",
       "    <tr>\n",
       "      <th>1</th>\n",
       "      <td>3</td>\n",
       "      <td>35214</td>\n",
       "      <td>195</td>\n",
       "      <td>Alabama Power Co</td>\n",
       "      <td>AL</td>\n",
       "      <td>Bundled</td>\n",
       "      <td>Investor Owned</td>\n",
       "      <td>POLYGON ((-86.942674 33.570016, -86.941514 33....</td>\n",
       "      <td>195</td>\n",
       "      <td>11592.4</td>\n",
       "      <td>1712.2</td>\n",
       "      <td>0.128692</td>\n",
       "    </tr>\n",
       "    <tr>\n",
       "      <th>2</th>\n",
       "      <td>4</td>\n",
       "      <td>35215</td>\n",
       "      <td>195</td>\n",
       "      <td>Alabama Power Co</td>\n",
       "      <td>AL</td>\n",
       "      <td>Bundled</td>\n",
       "      <td>Investor Owned</td>\n",
       "      <td>POLYGON ((-86.771626 33.643336, -86.770518 33....</td>\n",
       "      <td>195</td>\n",
       "      <td>11592.4</td>\n",
       "      <td>1712.2</td>\n",
       "      <td>0.128692</td>\n",
       "    </tr>\n",
       "    <tr>\n",
       "      <th>3</th>\n",
       "      <td>5</td>\n",
       "      <td>35216</td>\n",
       "      <td>195</td>\n",
       "      <td>Alabama Power Co</td>\n",
       "      <td>AL</td>\n",
       "      <td>Bundled</td>\n",
       "      <td>Investor Owned</td>\n",
       "      <td>POLYGON ((-86.813869 33.444376, -86.813705 33....</td>\n",
       "      <td>195</td>\n",
       "      <td>11592.4</td>\n",
       "      <td>1712.2</td>\n",
       "      <td>0.128692</td>\n",
       "    </tr>\n",
       "    <tr>\n",
       "      <th>4</th>\n",
       "      <td>6</td>\n",
       "      <td>35217</td>\n",
       "      <td>195</td>\n",
       "      <td>Alabama Power Co</td>\n",
       "      <td>AL</td>\n",
       "      <td>Bundled</td>\n",
       "      <td>Investor Owned</td>\n",
       "      <td>POLYGON ((-86.80130199999999 33.622442, -86.80...</td>\n",
       "      <td>195</td>\n",
       "      <td>11592.4</td>\n",
       "      <td>1712.2</td>\n",
       "      <td>0.128692</td>\n",
       "    </tr>\n",
       "  </tbody>\n",
       "</table>\n",
       "</div>"
      ],
      "text/plain": [
       "   index    zip  eiaid      utility_name state service_type       ownership  \\\n",
       "0      1  35218    195  Alabama Power Co    AL      Bundled  Investor Owned   \n",
       "1      3  35214    195  Alabama Power Co    AL      Bundled  Investor Owned   \n",
       "2      4  35215    195  Alabama Power Co    AL      Bundled  Investor Owned   \n",
       "3      5  35216    195  Alabama Power Co    AL      Bundled  Investor Owned   \n",
       "4      6  35217    195  Alabama Power Co    AL      Bundled  Investor Owned   \n",
       "\n",
       "                                            geometry  Utility_ID        0  \\\n",
       "0  POLYGON ((-86.911491 33.50122, -86.91058699999...         195  11592.4   \n",
       "1  POLYGON ((-86.942674 33.570016, -86.941514 33....         195  11592.4   \n",
       "2  POLYGON ((-86.771626 33.643336, -86.770518 33....         195  11592.4   \n",
       "3  POLYGON ((-86.813869 33.444376, -86.813705 33....         195  11592.4   \n",
       "4  POLYGON ((-86.80130199999999 33.622442, -86.80...         195  11592.4   \n",
       "\n",
       "        1  clean_energy_ratio  \n",
       "0  1712.2            0.128692  \n",
       "1  1712.2            0.128692  \n",
       "2  1712.2            0.128692  \n",
       "3  1712.2            0.128692  \n",
       "4  1712.2            0.128692  "
      ]
     },
     "execution_count": 30,
     "metadata": {},
     "output_type": "execute_result"
    }
   ],
   "source": [
    "energy[\"clean_energy_ratio\"] = energy.iloc[:,1]/(energy.iloc[:,0]+energy.iloc[:,1])#.reset_index().columns\n",
    "cleaned = energy.reset_index()\n",
    "big_group = pd.merge(zips_ids, cleaned, left_on=\"eiaid\", right_on=\"Utility_ID\")\n",
    "big_group.head()"
   ]
  },
  {
   "cell_type": "code",
   "execution_count": 31,
   "metadata": {},
   "outputs": [
    {
     "data": {
      "text/html": [
       "<div>\n",
       "<style scoped>\n",
       "    .dataframe tbody tr th:only-of-type {\n",
       "        vertical-align: middle;\n",
       "    }\n",
       "\n",
       "    .dataframe tbody tr th {\n",
       "        vertical-align: top;\n",
       "    }\n",
       "\n",
       "    .dataframe thead th {\n",
       "        text-align: right;\n",
       "    }\n",
       "</style>\n",
       "<table border=\"1\" class=\"dataframe\">\n",
       "  <thead>\n",
       "    <tr style=\"text-align: right;\">\n",
       "      <th></th>\n",
       "      <th>city</th>\n",
       "      <th>rank</th>\n",
       "      <th>state_left</th>\n",
       "      <th>growth_from</th>\n",
       "      <th>population</th>\n",
       "      <th>geometry</th>\n",
       "      <th>index_right</th>\n",
       "      <th>index</th>\n",
       "      <th>zip</th>\n",
       "      <th>eiaid</th>\n",
       "      <th>utility_name</th>\n",
       "      <th>state_right</th>\n",
       "      <th>service_type</th>\n",
       "      <th>ownership</th>\n",
       "      <th>Utility_ID</th>\n",
       "      <th>0</th>\n",
       "      <th>1</th>\n",
       "      <th>clean_energy_ratio</th>\n",
       "    </tr>\n",
       "  </thead>\n",
       "  <tbody>\n",
       "    <tr>\n",
       "      <th>0</th>\n",
       "      <td>Enid</td>\n",
       "      <td>727.0</td>\n",
       "      <td>Oklahoma</td>\n",
       "      <td>8.1</td>\n",
       "      <td>50725.0</td>\n",
       "      <td>POINT (-97.8783911 36.3955891)</td>\n",
       "      <td>16852</td>\n",
       "      <td>28530</td>\n",
       "      <td>73701</td>\n",
       "      <td>14063</td>\n",
       "      <td>Oklahoma Gas &amp; Electric Co</td>\n",
       "      <td>OK</td>\n",
       "      <td>Bundled</td>\n",
       "      <td>Investor Owned</td>\n",
       "      <td>14063</td>\n",
       "      <td>6892.7</td>\n",
       "      <td>458.2</td>\n",
       "      <td>0.062333</td>\n",
       "    </tr>\n",
       "    <tr>\n",
       "      <th>1</th>\n",
       "      <td>San Jose</td>\n",
       "      <td>10.0</td>\n",
       "      <td>California</td>\n",
       "      <td>10.5</td>\n",
       "      <td>998537.0</td>\n",
       "      <td>POINT (-121.8863286 37.3382082)</td>\n",
       "      <td>17824</td>\n",
       "      <td>29796</td>\n",
       "      <td>95112</td>\n",
       "      <td>14328</td>\n",
       "      <td>Pacific Gas &amp; Electric Co</td>\n",
       "      <td>CA</td>\n",
       "      <td>Bundled</td>\n",
       "      <td>Investor Owned</td>\n",
       "      <td>14328</td>\n",
       "      <td>3615.8</td>\n",
       "      <td>4043.6</td>\n",
       "      <td>0.527926</td>\n",
       "    </tr>\n",
       "    <tr>\n",
       "      <th>1</th>\n",
       "      <td>San Jose</td>\n",
       "      <td>10.0</td>\n",
       "      <td>California</td>\n",
       "      <td>10.5</td>\n",
       "      <td>998537.0</td>\n",
       "      <td>POINT (-121.8863286 37.3382082)</td>\n",
       "      <td>18719</td>\n",
       "      <td>30936</td>\n",
       "      <td>95112</td>\n",
       "      <td>14328</td>\n",
       "      <td>Pacific Gas &amp; Electric Co</td>\n",
       "      <td>CA</td>\n",
       "      <td>Delivery</td>\n",
       "      <td>Investor Owned</td>\n",
       "      <td>14328</td>\n",
       "      <td>3615.8</td>\n",
       "      <td>4043.6</td>\n",
       "      <td>0.527926</td>\n",
       "    </tr>\n",
       "    <tr>\n",
       "      <th>3</th>\n",
       "      <td>Maple Grove</td>\n",
       "      <td>531.0</td>\n",
       "      <td>Minnesota</td>\n",
       "      <td>27.3</td>\n",
       "      <td>65415.0</td>\n",
       "      <td>POINT (-93.4557877 45.0724642)</td>\n",
       "      <td>15600</td>\n",
       "      <td>26416</td>\n",
       "      <td>55311</td>\n",
       "      <td>13781</td>\n",
       "      <td>Northern States Power Co - Minnesota</td>\n",
       "      <td>MN</td>\n",
       "      <td>Bundled</td>\n",
       "      <td>Investor Owned</td>\n",
       "      <td>13781</td>\n",
       "      <td>7438.4</td>\n",
       "      <td>1076.4</td>\n",
       "      <td>0.126415</td>\n",
       "    </tr>\n",
       "    <tr>\n",
       "      <th>4</th>\n",
       "      <td>Norman</td>\n",
       "      <td>225.0</td>\n",
       "      <td>Oklahoma</td>\n",
       "      <td>22.0</td>\n",
       "      <td>118197.0</td>\n",
       "      <td>POINT (-97.4394777 35.2225668)</td>\n",
       "      <td>16957</td>\n",
       "      <td>28652</td>\n",
       "      <td>73069</td>\n",
       "      <td>14063</td>\n",
       "      <td>Oklahoma Gas &amp; Electric Co</td>\n",
       "      <td>OK</td>\n",
       "      <td>Bundled</td>\n",
       "      <td>Investor Owned</td>\n",
       "      <td>14063</td>\n",
       "      <td>6892.7</td>\n",
       "      <td>458.2</td>\n",
       "      <td>0.062333</td>\n",
       "    </tr>\n",
       "  </tbody>\n",
       "</table>\n",
       "</div>"
      ],
      "text/plain": [
       "          city   rank  state_left  growth_from  population  \\\n",
       "0         Enid  727.0    Oklahoma          8.1     50725.0   \n",
       "1     San Jose   10.0  California         10.5    998537.0   \n",
       "1     San Jose   10.0  California         10.5    998537.0   \n",
       "3  Maple Grove  531.0   Minnesota         27.3     65415.0   \n",
       "4       Norman  225.0    Oklahoma         22.0    118197.0   \n",
       "\n",
       "                          geometry  index_right  index    zip  eiaid  \\\n",
       "0   POINT (-97.8783911 36.3955891)        16852  28530  73701  14063   \n",
       "1  POINT (-121.8863286 37.3382082)        17824  29796  95112  14328   \n",
       "1  POINT (-121.8863286 37.3382082)        18719  30936  95112  14328   \n",
       "3   POINT (-93.4557877 45.0724642)        15600  26416  55311  13781   \n",
       "4   POINT (-97.4394777 35.2225668)        16957  28652  73069  14063   \n",
       "\n",
       "                           utility_name state_right service_type  \\\n",
       "0            Oklahoma Gas & Electric Co          OK      Bundled   \n",
       "1             Pacific Gas & Electric Co          CA      Bundled   \n",
       "1             Pacific Gas & Electric Co          CA     Delivery   \n",
       "3  Northern States Power Co - Minnesota          MN      Bundled   \n",
       "4            Oklahoma Gas & Electric Co          OK      Bundled   \n",
       "\n",
       "        ownership  Utility_ID       0       1  clean_energy_ratio  \n",
       "0  Investor Owned       14063  6892.7   458.2            0.062333  \n",
       "1  Investor Owned       14328  3615.8  4043.6            0.527926  \n",
       "1  Investor Owned       14328  3615.8  4043.6            0.527926  \n",
       "3  Investor Owned       13781  7438.4  1076.4            0.126415  \n",
       "4  Investor Owned       14063  6892.7   458.2            0.062333  "
      ]
     },
     "execution_count": 31,
     "metadata": {},
     "output_type": "execute_result"
    }
   ],
   "source": [
    "big_group.crs = {'init': 'epsg:4326'}\n",
    "big_one = gpd.sjoin(cities, big_group, how=\"inner\", op='within')\n",
    "big_one.head()"
   ]
  },
  {
   "cell_type": "code",
   "execution_count": 32,
   "metadata": {},
   "outputs": [
    {
     "data": {
      "text/html": [
       "<div>\n",
       "<style scoped>\n",
       "    .dataframe tbody tr th:only-of-type {\n",
       "        vertical-align: middle;\n",
       "    }\n",
       "\n",
       "    .dataframe tbody tr th {\n",
       "        vertical-align: top;\n",
       "    }\n",
       "\n",
       "    .dataframe thead th {\n",
       "        text-align: right;\n",
       "    }\n",
       "</style>\n",
       "<table border=\"1\" class=\"dataframe\">\n",
       "  <thead>\n",
       "    <tr style=\"text-align: right;\">\n",
       "      <th></th>\n",
       "      <th>city</th>\n",
       "      <th>rank</th>\n",
       "      <th>state_left</th>\n",
       "      <th>growth_from</th>\n",
       "      <th>population</th>\n",
       "      <th>geometry</th>\n",
       "      <th>index_right</th>\n",
       "      <th>index</th>\n",
       "      <th>zip</th>\n",
       "      <th>eiaid</th>\n",
       "      <th>utility_name</th>\n",
       "      <th>state_right</th>\n",
       "      <th>service_type</th>\n",
       "      <th>ownership</th>\n",
       "      <th>Utility_ID</th>\n",
       "      <th>0</th>\n",
       "      <th>1</th>\n",
       "      <th>clean_energy_ratio</th>\n",
       "      <th>x</th>\n",
       "      <th>y</th>\n",
       "    </tr>\n",
       "  </thead>\n",
       "  <tbody>\n",
       "    <tr>\n",
       "      <th>0</th>\n",
       "      <td>Enid</td>\n",
       "      <td>727.0</td>\n",
       "      <td>Oklahoma</td>\n",
       "      <td>8.1</td>\n",
       "      <td>50725.0</td>\n",
       "      <td>POINT (-97.8783911 36.3955891)</td>\n",
       "      <td>16852</td>\n",
       "      <td>28530</td>\n",
       "      <td>73701</td>\n",
       "      <td>14063</td>\n",
       "      <td>Oklahoma Gas &amp; Electric Co</td>\n",
       "      <td>OK</td>\n",
       "      <td>Bundled</td>\n",
       "      <td>Investor Owned</td>\n",
       "      <td>14063</td>\n",
       "      <td>6892.7</td>\n",
       "      <td>458.2</td>\n",
       "      <td>0.062333</td>\n",
       "      <td>-97.878391</td>\n",
       "      <td>36.395589</td>\n",
       "    </tr>\n",
       "    <tr>\n",
       "      <th>1</th>\n",
       "      <td>San Jose</td>\n",
       "      <td>10.0</td>\n",
       "      <td>California</td>\n",
       "      <td>10.5</td>\n",
       "      <td>998537.0</td>\n",
       "      <td>POINT (-121.8863286 37.3382082)</td>\n",
       "      <td>17824</td>\n",
       "      <td>29796</td>\n",
       "      <td>95112</td>\n",
       "      <td>14328</td>\n",
       "      <td>Pacific Gas &amp; Electric Co</td>\n",
       "      <td>CA</td>\n",
       "      <td>Bundled</td>\n",
       "      <td>Investor Owned</td>\n",
       "      <td>14328</td>\n",
       "      <td>3615.8</td>\n",
       "      <td>4043.6</td>\n",
       "      <td>0.527926</td>\n",
       "      <td>-121.886329</td>\n",
       "      <td>37.338208</td>\n",
       "    </tr>\n",
       "    <tr>\n",
       "      <th>1</th>\n",
       "      <td>San Jose</td>\n",
       "      <td>10.0</td>\n",
       "      <td>California</td>\n",
       "      <td>10.5</td>\n",
       "      <td>998537.0</td>\n",
       "      <td>POINT (-121.8863286 37.3382082)</td>\n",
       "      <td>18719</td>\n",
       "      <td>30936</td>\n",
       "      <td>95112</td>\n",
       "      <td>14328</td>\n",
       "      <td>Pacific Gas &amp; Electric Co</td>\n",
       "      <td>CA</td>\n",
       "      <td>Delivery</td>\n",
       "      <td>Investor Owned</td>\n",
       "      <td>14328</td>\n",
       "      <td>3615.8</td>\n",
       "      <td>4043.6</td>\n",
       "      <td>0.527926</td>\n",
       "      <td>-121.886329</td>\n",
       "      <td>37.338208</td>\n",
       "    </tr>\n",
       "    <tr>\n",
       "      <th>3</th>\n",
       "      <td>Maple Grove</td>\n",
       "      <td>531.0</td>\n",
       "      <td>Minnesota</td>\n",
       "      <td>27.3</td>\n",
       "      <td>65415.0</td>\n",
       "      <td>POINT (-93.4557877 45.0724642)</td>\n",
       "      <td>15600</td>\n",
       "      <td>26416</td>\n",
       "      <td>55311</td>\n",
       "      <td>13781</td>\n",
       "      <td>Northern States Power Co - Minnesota</td>\n",
       "      <td>MN</td>\n",
       "      <td>Bundled</td>\n",
       "      <td>Investor Owned</td>\n",
       "      <td>13781</td>\n",
       "      <td>7438.4</td>\n",
       "      <td>1076.4</td>\n",
       "      <td>0.126415</td>\n",
       "      <td>-93.455788</td>\n",
       "      <td>45.072464</td>\n",
       "    </tr>\n",
       "    <tr>\n",
       "      <th>4</th>\n",
       "      <td>Norman</td>\n",
       "      <td>225.0</td>\n",
       "      <td>Oklahoma</td>\n",
       "      <td>22.0</td>\n",
       "      <td>118197.0</td>\n",
       "      <td>POINT (-97.4394777 35.2225668)</td>\n",
       "      <td>16957</td>\n",
       "      <td>28652</td>\n",
       "      <td>73069</td>\n",
       "      <td>14063</td>\n",
       "      <td>Oklahoma Gas &amp; Electric Co</td>\n",
       "      <td>OK</td>\n",
       "      <td>Bundled</td>\n",
       "      <td>Investor Owned</td>\n",
       "      <td>14063</td>\n",
       "      <td>6892.7</td>\n",
       "      <td>458.2</td>\n",
       "      <td>0.062333</td>\n",
       "      <td>-97.439478</td>\n",
       "      <td>35.222567</td>\n",
       "    </tr>\n",
       "  </tbody>\n",
       "</table>\n",
       "</div>"
      ],
      "text/plain": [
       "          city   rank  state_left  growth_from  population  \\\n",
       "0         Enid  727.0    Oklahoma          8.1     50725.0   \n",
       "1     San Jose   10.0  California         10.5    998537.0   \n",
       "1     San Jose   10.0  California         10.5    998537.0   \n",
       "3  Maple Grove  531.0   Minnesota         27.3     65415.0   \n",
       "4       Norman  225.0    Oklahoma         22.0    118197.0   \n",
       "\n",
       "                          geometry  index_right  index    zip  eiaid  \\\n",
       "0   POINT (-97.8783911 36.3955891)        16852  28530  73701  14063   \n",
       "1  POINT (-121.8863286 37.3382082)        17824  29796  95112  14328   \n",
       "1  POINT (-121.8863286 37.3382082)        18719  30936  95112  14328   \n",
       "3   POINT (-93.4557877 45.0724642)        15600  26416  55311  13781   \n",
       "4   POINT (-97.4394777 35.2225668)        16957  28652  73069  14063   \n",
       "\n",
       "                           utility_name state_right service_type  \\\n",
       "0            Oklahoma Gas & Electric Co          OK      Bundled   \n",
       "1             Pacific Gas & Electric Co          CA      Bundled   \n",
       "1             Pacific Gas & Electric Co          CA     Delivery   \n",
       "3  Northern States Power Co - Minnesota          MN      Bundled   \n",
       "4            Oklahoma Gas & Electric Co          OK      Bundled   \n",
       "\n",
       "        ownership  Utility_ID       0       1  clean_energy_ratio           x  \\\n",
       "0  Investor Owned       14063  6892.7   458.2            0.062333  -97.878391   \n",
       "1  Investor Owned       14328  3615.8  4043.6            0.527926 -121.886329   \n",
       "1  Investor Owned       14328  3615.8  4043.6            0.527926 -121.886329   \n",
       "3  Investor Owned       13781  7438.4  1076.4            0.126415  -93.455788   \n",
       "4  Investor Owned       14063  6892.7   458.2            0.062333  -97.439478   \n",
       "\n",
       "           y  \n",
       "0  36.395589  \n",
       "1  37.338208  \n",
       "1  37.338208  \n",
       "3  45.072464  \n",
       "4  35.222567  "
      ]
     },
     "execution_count": 32,
     "metadata": {},
     "output_type": "execute_result"
    }
   ],
   "source": [
    "big_one[\"x\"] = big_one[\"geometry\"].x#.coords\n",
    "big_one[\"y\"] = big_one[\"geometry\"].y\n",
    "big_one.head()"
   ]
  },
  {
   "cell_type": "code",
   "execution_count": 33,
   "metadata": {},
   "outputs": [
    {
     "data": {
      "text/plain": [
       "0.3248651061841308"
      ]
     },
     "execution_count": 33,
     "metadata": {},
     "output_type": "execute_result"
    }
   ],
   "source": [
    "renew_mean = big_one['clean_energy_ratio'].mean()\n",
    "renew_mean"
   ]
  },
  {
   "cell_type": "code",
   "execution_count": 34,
   "metadata": {},
   "outputs": [
    {
     "data": {
      "text/html": [
       "<div>\n",
       "<style scoped>\n",
       "    .dataframe tbody tr th:only-of-type {\n",
       "        vertical-align: middle;\n",
       "    }\n",
       "\n",
       "    .dataframe tbody tr th {\n",
       "        vertical-align: top;\n",
       "    }\n",
       "\n",
       "    .dataframe thead th {\n",
       "        text-align: right;\n",
       "    }\n",
       "</style>\n",
       "<table border=\"1\" class=\"dataframe\">\n",
       "  <thead>\n",
       "    <tr style=\"text-align: right;\">\n",
       "      <th></th>\n",
       "      <th>city</th>\n",
       "      <th>rank</th>\n",
       "      <th>state_left</th>\n",
       "      <th>growth_from</th>\n",
       "      <th>population</th>\n",
       "      <th>geometry</th>\n",
       "      <th>index_right</th>\n",
       "      <th>index</th>\n",
       "      <th>zip</th>\n",
       "      <th>eiaid</th>\n",
       "      <th>utility_name</th>\n",
       "      <th>state_right</th>\n",
       "      <th>service_type</th>\n",
       "      <th>ownership</th>\n",
       "      <th>Utility_ID</th>\n",
       "      <th>0</th>\n",
       "      <th>1</th>\n",
       "      <th>clean_energy_ratio</th>\n",
       "      <th>x</th>\n",
       "      <th>y</th>\n",
       "    </tr>\n",
       "  </thead>\n",
       "  <tbody>\n",
       "    <tr>\n",
       "      <th>85</th>\n",
       "      <td>Richmond</td>\n",
       "      <td>99.0</td>\n",
       "      <td>Virginia</td>\n",
       "      <td>8.2</td>\n",
       "      <td>214114.0</td>\n",
       "      <td>POINT (-77.43604809999999 37.5407246)</td>\n",
       "      <td>26398</td>\n",
       "      <td>45435</td>\n",
       "      <td>23219</td>\n",
       "      <td>19876</td>\n",
       "      <td>Virginia Electric &amp; Power Co</td>\n",
       "      <td>VA</td>\n",
       "      <td>Bundled</td>\n",
       "      <td>Investor Owned</td>\n",
       "      <td>19876</td>\n",
       "      <td>19859.3</td>\n",
       "      <td>3610.2</td>\n",
       "      <td>0.153825</td>\n",
       "      <td>-77.436048</td>\n",
       "      <td>37.540725</td>\n",
       "    </tr>\n",
       "    <tr>\n",
       "      <th>85</th>\n",
       "      <td>Richmond</td>\n",
       "      <td>99.0</td>\n",
       "      <td>Virginia</td>\n",
       "      <td>8.2</td>\n",
       "      <td>214114.0</td>\n",
       "      <td>POINT (-77.43604809999999 37.5407246)</td>\n",
       "      <td>26949</td>\n",
       "      <td>46184</td>\n",
       "      <td>23219</td>\n",
       "      <td>19876</td>\n",
       "      <td>Virginia Electric &amp; Power Co</td>\n",
       "      <td>VA</td>\n",
       "      <td>Delivery</td>\n",
       "      <td>Investor Owned</td>\n",
       "      <td>19876</td>\n",
       "      <td>19859.3</td>\n",
       "      <td>3610.2</td>\n",
       "      <td>0.153825</td>\n",
       "      <td>-77.436048</td>\n",
       "      <td>37.540725</td>\n",
       "    </tr>\n",
       "    <tr>\n",
       "      <th>99</th>\n",
       "      <td>Honolulu</td>\n",
       "      <td>54.0</td>\n",
       "      <td>Hawaii</td>\n",
       "      <td>-6.2</td>\n",
       "      <td>347884.0</td>\n",
       "      <td>POINT (-157.8583333 21.3069444)</td>\n",
       "      <td>26060</td>\n",
       "      <td>45037</td>\n",
       "      <td>96813</td>\n",
       "      <td>19547</td>\n",
       "      <td>Hawaiian Electric Co Inc</td>\n",
       "      <td>HI</td>\n",
       "      <td>Bundled</td>\n",
       "      <td>Investor Owned</td>\n",
       "      <td>19547</td>\n",
       "      <td>1039.7</td>\n",
       "      <td>173.4</td>\n",
       "      <td>0.142940</td>\n",
       "      <td>-157.858333</td>\n",
       "      <td>21.306944</td>\n",
       "    </tr>\n",
       "    <tr>\n",
       "      <th>133</th>\n",
       "      <td>San Diego</td>\n",
       "      <td>8.0</td>\n",
       "      <td>California</td>\n",
       "      <td>10.5</td>\n",
       "      <td>1355896.0</td>\n",
       "      <td>POINT (-117.1610838 32.715738)</td>\n",
       "      <td>23137</td>\n",
       "      <td>40772</td>\n",
       "      <td>92101</td>\n",
       "      <td>16609</td>\n",
       "      <td>San Diego Gas &amp; Electric Co</td>\n",
       "      <td>CA</td>\n",
       "      <td>Bundled</td>\n",
       "      <td>Investor Owned</td>\n",
       "      <td>16609</td>\n",
       "      <td>742.2</td>\n",
       "      <td>3.7</td>\n",
       "      <td>0.004960</td>\n",
       "      <td>-117.161084</td>\n",
       "      <td>32.715738</td>\n",
       "    </tr>\n",
       "    <tr>\n",
       "      <th>133</th>\n",
       "      <td>San Diego</td>\n",
       "      <td>8.0</td>\n",
       "      <td>California</td>\n",
       "      <td>10.5</td>\n",
       "      <td>1355896.0</td>\n",
       "      <td>POINT (-117.1610838 32.715738)</td>\n",
       "      <td>23269</td>\n",
       "      <td>40982</td>\n",
       "      <td>92101</td>\n",
       "      <td>16609</td>\n",
       "      <td>San Diego Gas &amp; Electric Co</td>\n",
       "      <td>CA</td>\n",
       "      <td>Delivery</td>\n",
       "      <td>Investor Owned</td>\n",
       "      <td>16609</td>\n",
       "      <td>742.2</td>\n",
       "      <td>3.7</td>\n",
       "      <td>0.004960</td>\n",
       "      <td>-117.161084</td>\n",
       "      <td>32.715738</td>\n",
       "    </tr>\n",
       "  </tbody>\n",
       "</table>\n",
       "</div>"
      ],
      "text/plain": [
       "          city  rank  state_left  growth_from  population  \\\n",
       "85    Richmond  99.0    Virginia          8.2    214114.0   \n",
       "85    Richmond  99.0    Virginia          8.2    214114.0   \n",
       "99    Honolulu  54.0      Hawaii         -6.2    347884.0   \n",
       "133  San Diego   8.0  California         10.5   1355896.0   \n",
       "133  San Diego   8.0  California         10.5   1355896.0   \n",
       "\n",
       "                                  geometry  index_right  index    zip  eiaid  \\\n",
       "85   POINT (-77.43604809999999 37.5407246)        26398  45435  23219  19876   \n",
       "85   POINT (-77.43604809999999 37.5407246)        26949  46184  23219  19876   \n",
       "99         POINT (-157.8583333 21.3069444)        26060  45037  96813  19547   \n",
       "133         POINT (-117.1610838 32.715738)        23137  40772  92101  16609   \n",
       "133         POINT (-117.1610838 32.715738)        23269  40982  92101  16609   \n",
       "\n",
       "                     utility_name state_right service_type       ownership  \\\n",
       "85   Virginia Electric & Power Co          VA      Bundled  Investor Owned   \n",
       "85   Virginia Electric & Power Co          VA     Delivery  Investor Owned   \n",
       "99       Hawaiian Electric Co Inc          HI      Bundled  Investor Owned   \n",
       "133   San Diego Gas & Electric Co          CA      Bundled  Investor Owned   \n",
       "133   San Diego Gas & Electric Co          CA     Delivery  Investor Owned   \n",
       "\n",
       "     Utility_ID        0       1  clean_energy_ratio           x          y  \n",
       "85        19876  19859.3  3610.2            0.153825  -77.436048  37.540725  \n",
       "85        19876  19859.3  3610.2            0.153825  -77.436048  37.540725  \n",
       "99        19547   1039.7   173.4            0.142940 -157.858333  21.306944  \n",
       "133       16609    742.2     3.7            0.004960 -117.161084  32.715738  \n",
       "133       16609    742.2     3.7            0.004960 -117.161084  32.715738  "
      ]
     },
     "execution_count": 34,
     "metadata": {},
     "output_type": "execute_result"
    }
   ],
   "source": [
    "coastal = big_one[pd.Series(big_one.city.str.lower()).isin(list(pd.Series(sea_levels.Site.unique()).str.lower()))]\n",
    "coastal.head()"
   ]
  },
  {
   "cell_type": "code",
   "execution_count": 35,
   "metadata": {},
   "outputs": [
    {
     "data": {
      "text/plain": [
       "0.23547995418988124"
      ]
     },
     "execution_count": 35,
     "metadata": {},
     "output_type": "execute_result"
    }
   ],
   "source": [
    "coastal_renew_mean = coastal['clean_energy_ratio'].mean()\n",
    "coastal_renew_mean"
   ]
  },
  {
   "cell_type": "code",
   "execution_count": 36,
   "metadata": {},
   "outputs": [
    {
     "data": {
      "text/plain": [
       "LinearRegression(copy_X=True, fit_intercept=True, n_jobs=None,\n",
       "         normalize=False)"
      ]
     },
     "execution_count": 36,
     "metadata": {},
     "output_type": "execute_result"
    }
   ],
   "source": [
    "reg_data = big_one.dropna()[[\"city\", \"population\", \"growth_from\", \"rank\", \"clean_energy_ratio\", \"x\", \"y\"]]\n",
    "\n",
    "reg_data[\"population\"] = pd.to_numeric(reg_data[\"population\"])\n",
    "reg_data[\"growth_from\"] = pd.to_numeric(reg_data[\"growth_from\"])\n",
    "reg_data[\"rank\"] = pd.to_numeric(reg_data[\"rank\"])\n",
    "\n",
    "X_train, X_test, y_train, y_test = train_test_split(reg_data.dropna().drop(\"clean_energy_ratio\", axis=1), reg_data.dropna()[\"clean_energy_ratio\"], test_size=.33)\n",
    "#ct = ([[\"city\"], OneHotEncoder, \"encoder\"])\n",
    "#Pipeline = (ct, LinearRegression())\n",
    "lr = LinearRegression()\n",
    "\n",
    "#Model for Victim Number with ZIP and SEVERITY as the x\n",
    "#X_train\n",
    "lr.fit(X_train.drop([\"city\", \"x\", \"y\"], axis=1), y_train) "
   ]
  },
  {
   "cell_type": "code",
   "execution_count": 37,
   "metadata": {},
   "outputs": [
    {
     "data": {
      "image/png": "[encoded data removed]",
      "text/plain": [
       "<Figure size 432x288 with 1 Axes>"
      ]
     },
     "metadata": {
      "needs_background": "light"
     },
     "output_type": "display_data"
    }
   ],
   "source": [
    "ax = plt.scatter(X_test[\"city\"], lr.predict(X_test.drop([\"city\", \"x\", \"y\"], axis=1)).T)\n",
    "plt.title(\"\")\n",
    "plt.xlabel(\"\")\n",
    "plt.ylabel(\"\")\n",
    "plt.scatter(X_test[\"city\"], y_test)#, ax=ax)\n",
    "\n",
    "\n",
    "plt.show()"
   ]
  },
  {
   "cell_type": "code",
   "execution_count": 38,
   "metadata": {},
   "outputs": [
    {
     "name": "stderr",
     "output_type": "stream",
     "text": [
      "/opt/conda/lib/python3.6/site-packages/scipy/stats/stats.py:1713: FutureWarning: Using a non-tuple sequence for multidimensional indexing is deprecated; use `arr[tuple(seq)]` instead of `arr[seq]`. In the future this will be interpreted as an array index, `arr[np.array(seq)]`, which will result either in an error or a different result.\n",
      "  return np.add.reduce(sorted[indexer] * weights, axis=axis) / sumval\n"
     ]
    },
    {
     "data": {
      "image/png": "[encoded data removed]",
      "text/plain": [
       "<Figure size 432x432 with 3 Axes>"
      ]
     },
     "metadata": {},
     "output_type": "display_data"
    }
   ],
   "source": [
    "sns.set(style=\"ticks\", color_codes=True)\n",
    "g = sns.JointGrid(x=\"x\", y=\"clean_energy_ratio\", data=reg_data)\n",
    "g = g.plot(sns.regplot, sns.distplot)"
   ]
  },
  {
   "cell_type": "code",
   "execution_count": 39,
   "metadata": {},
   "outputs": [
    {
     "data": {
      "image/png": "[encoded data removed]",
      "text/plain": [
       "<Figure size 432x288 with 1 Axes>"
      ]
     },
     "metadata": {},
     "output_type": "display_data"
    }
   ],
   "source": [
    "ax = plt.scatter(X_test[\"x\"], X_test[\"y\"], c=lr.predict(X_test.drop([\"city\", \"x\", \"y\"], axis=1)).T, cmap=plt.cm.autumn)\n",
    "plt.title(\"Clean Energy Predicted by City Description\")\n",
    "plt.xlabel(\"Longitude\")\n",
    "plt.ylabel(\"Latitude\")\n",
    "\n",
    "plt.show()"
   ]
  },
  {
   "cell_type": "code",
   "execution_count": 40,
   "metadata": {},
   "outputs": [
    {
     "data": {
      "image/png": "[encoded data removed]",
      "text/plain": [
       "<Figure size 432x288 with 1 Axes>"
      ]
     },
     "metadata": {},
     "output_type": "display_data"
    }
   ],
   "source": [
    "plt.scatter(X_test[\"x\"], X_test[\"y\"], c=y_test, cmap=plt.cm.autumn)#, ax=ax)\n",
    "plt.title(\"Actual Clean Energy by City Description\")\n",
    "plt.xlabel(\"Longitude\")\n",
    "plt.ylabel(\"Latitude\")\n",
    "plt.show()"
   ]
  },
  {
   "cell_type": "code",
   "execution_count": 41,
   "metadata": {},
   "outputs": [
    {
     "data": {
      "text/plain": [
       "-596.6562267146905"
      ]
     },
     "execution_count": 41,
     "metadata": {},
     "output_type": "execute_result"
    }
   ],
   "source": [
    "#Best possible score is 1.0, always predict expected score would be 0.0\n",
    "r2_score(lr.predict(X_test.drop([\"city\",\"x\", \"y\"], axis=1)), y_test)"
   ]
  },
  {
   "cell_type": "code",
   "execution_count": 42,
   "metadata": {},
   "outputs": [
    {
     "data": {
      "image/png": "[encoded data removed]",
      "text/plain": [
       "<Figure size 432x288 with 1 Axes>"
      ]
     },
     "metadata": {},
     "output_type": "display_data"
    }
   ],
   "source": [
    "big_one[\"x\"] = big_one[\"geometry\"].x#.coords\n",
    "big_one[\"y\"] = big_one[\"geometry\"].y\n",
    "reg_data = big_one.dropna()[[\"city\", \"x\", \"y\", \"state_left\", \"state_right\", \"clean_energy_ratio\"]]\n",
    "\n",
    "reg_data[\"x\"] = pd.to_numeric(reg_data[\"x\"])\n",
    "reg_data[\"y\"] = pd.to_numeric(reg_data[\"y\"])\n",
    "\n",
    "X_train, X_test, y_train, y_test = train_test_split(reg_data.dropna().drop(\"clean_energy_ratio\", axis=1), reg_data.dropna()[\"clean_energy_ratio\"], test_size=.33)\n",
    "ct = ColumnTransformer([(\"one-hot-encode\", OneHotEncoder(handle_unknown=\"ignore\"), [\"state_left\", \"state_right\"])])\n",
    "pl = Pipeline([('column-transform', ct), ('reg', LinearRegression())])\n",
    "#ct = LinearRegression()\n",
    "\n",
    "#Model for Victim Number with ZIP and SEVERITY as the x\n",
    "pl.fit(X_train.drop(\"city\", axis=1), y_train) \n",
    "\n",
    "ax = plt.scatter(X_test[\"x\"], X_test[\"y\"], c=pl.predict(X_test.drop(\"city\", axis=1)).T, cmap=plt.cm.autumn)\n",
    "plt.title(\"Clean Energy Predicted by Location\")\n",
    "plt.xlabel(\"Longitude\")\n",
    "plt.ylabel(\"Latitude\")\n",
    "\n",
    "plt.show()"
   ]
  },
  {
   "cell_type": "code",
   "execution_count": 43,
   "metadata": {},
   "outputs": [
    {
     "data": {
      "image/png": "[encoded data removed]",
      "text/plain": [
       "<Figure size 432x288 with 1 Axes>"
      ]
     },
     "metadata": {},
     "output_type": "display_data"
    }
   ],
   "source": [
    "plt.scatter(X_test[\"x\"], X_test[\"y\"], c=y_test, cmap=plt.cm.autumn)#, ax=ax)\n",
    "plt.title(\"Actual Clean Energy by Location\")\n",
    "plt.xlabel(\"Longitude\")\n",
    "plt.ylabel(\"Latitude\")\n",
    "plt.show()"
   ]
  },
  {
   "cell_type": "code",
   "execution_count": 44,
   "metadata": {},
   "outputs": [
    {
     "data": {
      "text/plain": [
       "0.5003432186922063"
      ]
     },
     "execution_count": 44,
     "metadata": {},
     "output_type": "execute_result"
    }
   ],
   "source": [
    "r2_score(pl.predict(X_test.drop(\"city\", axis=1)), y_test)"
   ]
  },
  {
   "cell_type": "code",
   "execution_count": 47,
   "metadata": {},
   "outputs": [
    {
     "data": {
      "image/png": "[encoded data removed]",
      "text/plain": [
       "<Figure size 432x288 with 1 Axes>"
      ]
     },
     "metadata": {},
     "output_type": "display_data"
    }
   ],
   "source": [
    "big_one[\"x\"] = big_one[\"geometry\"].x#.coords\n",
    "big_one[\"y\"] = big_one[\"geometry\"].y\n",
    "reg_data = big_one.dropna()[[\"city\", \"x\", \"y\", \"state_left\", \"state_right\", \"clean_energy_ratio\"]]\n",
    "\n",
    "reg_data[\"x\"] = pd.to_numeric(reg_data[\"x\"]).astype(int)\n",
    "reg_data[\"y\"] = pd.to_numeric(reg_data[\"y\"]).astype(int)\n",
    "reg_data[\"clean_energy_ratio\"] = (pd.to_numeric(reg_data[\"clean_energy_ratio\"])*100).astype(int)\n",
    "\n",
    "X_train, X_test, y_train, y_test = train_test_split(reg_data.dropna().drop(\"clean_energy_ratio\", axis=1), reg_data.dropna()[\"clean_energy_ratio\"], test_size=.33)\n",
    "ct = ColumnTransformer([(\"one-hot-encode\", OneHotEncoder(handle_unknown=\"ignore\"), [\"state_left\", \"state_right\"])])\n",
    "\n",
    "parameters = {'kernel':('linear', 'rbf'), 'C':[1, 10]}\n",
    "svr = svm.SVR(gamma=\"scale\")\n",
    "clf = GridSearchCV(svr, parameters, cv=5)\n",
    "\n",
    "pl = Pipeline([('column-transform', ct), ('svm',clf)]) #, (\"no continous\", preprocessing.LabelEncoder())\n",
    "#ct = LinearRegression()\n",
    "\n",
    "#Model for Victim Number with ZIP and SEVERITY as the x\n",
    "pl.fit(X_train.drop(\"city\", axis=1), y_train) \n",
    "\n",
    "ax = plt.scatter(X_test[\"x\"], X_test[\"y\"], c=pl.predict(X_test.drop(\"city\", axis=1)).T, cmap=plt.cm.autumn)\n",
    "plt.title(\"Clean Energy Predicted by Location\")\n",
    "plt.xlabel(\"Longitude\")\n",
    "plt.ylabel(\"Latitude\")\n",
    "\n",
    "plt.show()"
   ]
  },
  {
   "cell_type": "code",
   "execution_count": 48,
   "metadata": {},
   "outputs": [
    {
     "data": {
      "text/plain": [
       "0.6258948814300161"
      ]
     },
     "execution_count": 48,
     "metadata": {},
     "output_type": "execute_result"
    }
   ],
   "source": [
    "#Support Vector Machine Classifier with 5-fold Cross Validation, Best param 'C':[1, 10]\n",
    "pl.score(X_test.drop(\"city\", axis=1), y_test)"
   ]
  },
  {
   "cell_type": "code",
   "execution_count": 50,
   "metadata": {},
   "outputs": [
    {
     "name": "stderr",
     "output_type": "stream",
     "text": [
      "/opt/conda/lib/python3.6/site-packages/sklearn/ensemble/forest.py:246: FutureWarning: The default value of n_estimators will change from 10 in version 0.20 to 100 in 0.22.\n",
      "  \"10 in version 0.20 to 100 in 0.22.\", FutureWarning)\n",
      "/opt/conda/lib/python3.6/site-packages/sklearn/ensemble/forest.py:246: FutureWarning: The default value of n_estimators will change from 10 in version 0.20 to 100 in 0.22.\n",
      "  \"10 in version 0.20 to 100 in 0.22.\", FutureWarning)\n",
      "/opt/conda/lib/python3.6/site-packages/sklearn/ensemble/forest.py:246: FutureWarning: The default value of n_estimators will change from 10 in version 0.20 to 100 in 0.22.\n",
      "  \"10 in version 0.20 to 100 in 0.22.\", FutureWarning)\n",
      "/opt/conda/lib/python3.6/site-packages/sklearn/ensemble/forest.py:246: FutureWarning: The default value of n_estimators will change from 10 in version 0.20 to 100 in 0.22.\n",
      "  \"10 in version 0.20 to 100 in 0.22.\", FutureWarning)\n",
      "/opt/conda/lib/python3.6/site-packages/sklearn/ensemble/forest.py:246: FutureWarning: The default value of n_estimators will change from 10 in version 0.20 to 100 in 0.22.\n",
      "  \"10 in version 0.20 to 100 in 0.22.\", FutureWarning)\n",
      "/opt/conda/lib/python3.6/site-packages/sklearn/ensemble/forest.py:246: FutureWarning: The default value of n_estimators will change from 10 in version 0.20 to 100 in 0.22.\n",
      "  \"10 in version 0.20 to 100 in 0.22.\", FutureWarning)\n",
      "/opt/conda/lib/python3.6/site-packages/sklearn/ensemble/forest.py:246: FutureWarning: The default value of n_estimators will change from 10 in version 0.20 to 100 in 0.22.\n",
      "  \"10 in version 0.20 to 100 in 0.22.\", FutureWarning)\n",
      "/opt/conda/lib/python3.6/site-packages/sklearn/ensemble/forest.py:246: FutureWarning: The default value of n_estimators will change from 10 in version 0.20 to 100 in 0.22.\n",
      "  \"10 in version 0.20 to 100 in 0.22.\", FutureWarning)\n",
      "/opt/conda/lib/python3.6/site-packages/sklearn/ensemble/forest.py:246: FutureWarning: The default value of n_estimators will change from 10 in version 0.20 to 100 in 0.22.\n",
      "  \"10 in version 0.20 to 100 in 0.22.\", FutureWarning)\n",
      "/opt/conda/lib/python3.6/site-packages/sklearn/ensemble/forest.py:246: FutureWarning: The default value of n_estimators will change from 10 in version 0.20 to 100 in 0.22.\n",
      "  \"10 in version 0.20 to 100 in 0.22.\", FutureWarning)\n",
      "/opt/conda/lib/python3.6/site-packages/sklearn/ensemble/forest.py:246: FutureWarning: The default value of n_estimators will change from 10 in version 0.20 to 100 in 0.22.\n",
      "  \"10 in version 0.20 to 100 in 0.22.\", FutureWarning)\n",
      "/opt/conda/lib/python3.6/site-packages/sklearn/ensemble/forest.py:246: FutureWarning: The default value of n_estimators will change from 10 in version 0.20 to 100 in 0.22.\n",
      "  \"10 in version 0.20 to 100 in 0.22.\", FutureWarning)\n",
      "/opt/conda/lib/python3.6/site-packages/sklearn/ensemble/forest.py:246: FutureWarning: The default value of n_estimators will change from 10 in version 0.20 to 100 in 0.22.\n",
      "  \"10 in version 0.20 to 100 in 0.22.\", FutureWarning)\n",
      "/opt/conda/lib/python3.6/site-packages/sklearn/ensemble/forest.py:246: FutureWarning: The default value of n_estimators will change from 10 in version 0.20 to 100 in 0.22.\n",
      "  \"10 in version 0.20 to 100 in 0.22.\", FutureWarning)\n",
      "/opt/conda/lib/python3.6/site-packages/sklearn/ensemble/forest.py:246: FutureWarning: The default value of n_estimators will change from 10 in version 0.20 to 100 in 0.22.\n",
      "  \"10 in version 0.20 to 100 in 0.22.\", FutureWarning)\n",
      "/opt/conda/lib/python3.6/site-packages/sklearn/ensemble/forest.py:246: FutureWarning: The default value of n_estimators will change from 10 in version 0.20 to 100 in 0.22.\n",
      "  \"10 in version 0.20 to 100 in 0.22.\", FutureWarning)\n",
      "/opt/conda/lib/python3.6/site-packages/sklearn/ensemble/forest.py:246: FutureWarning: The default value of n_estimators will change from 10 in version 0.20 to 100 in 0.22.\n",
      "  \"10 in version 0.20 to 100 in 0.22.\", FutureWarning)\n",
      "/opt/conda/lib/python3.6/site-packages/sklearn/ensemble/forest.py:246: FutureWarning: The default value of n_estimators will change from 10 in version 0.20 to 100 in 0.22.\n",
      "  \"10 in version 0.20 to 100 in 0.22.\", FutureWarning)\n",
      "/opt/conda/lib/python3.6/site-packages/sklearn/ensemble/forest.py:246: FutureWarning: The default value of n_estimators will change from 10 in version 0.20 to 100 in 0.22.\n",
      "  \"10 in version 0.20 to 100 in 0.22.\", FutureWarning)\n",
      "/opt/conda/lib/python3.6/site-packages/sklearn/ensemble/forest.py:246: FutureWarning: The default value of n_estimators will change from 10 in version 0.20 to 100 in 0.22.\n",
      "  \"10 in version 0.20 to 100 in 0.22.\", FutureWarning)\n",
      "/opt/conda/lib/python3.6/site-packages/sklearn/ensemble/forest.py:246: FutureWarning: The default value of n_estimators will change from 10 in version 0.20 to 100 in 0.22.\n",
      "  \"10 in version 0.20 to 100 in 0.22.\", FutureWarning)\n",
      "/opt/conda/lib/python3.6/site-packages/sklearn/ensemble/forest.py:246: FutureWarning: The default value of n_estimators will change from 10 in version 0.20 to 100 in 0.22.\n",
      "  \"10 in version 0.20 to 100 in 0.22.\", FutureWarning)\n",
      "/opt/conda/lib/python3.6/site-packages/sklearn/ensemble/forest.py:246: FutureWarning: The default value of n_estimators will change from 10 in version 0.20 to 100 in 0.22.\n",
      "  \"10 in version 0.20 to 100 in 0.22.\", FutureWarning)\n",
      "/opt/conda/lib/python3.6/site-packages/sklearn/ensemble/forest.py:246: FutureWarning: The default value of n_estimators will change from 10 in version 0.20 to 100 in 0.22.\n",
      "  \"10 in version 0.20 to 100 in 0.22.\", FutureWarning)\n",
      "/opt/conda/lib/python3.6/site-packages/sklearn/ensemble/forest.py:246: FutureWarning: The default value of n_estimators will change from 10 in version 0.20 to 100 in 0.22.\n",
      "  \"10 in version 0.20 to 100 in 0.22.\", FutureWarning)\n",
      "/opt/conda/lib/python3.6/site-packages/sklearn/ensemble/forest.py:246: FutureWarning: The default value of n_estimators will change from 10 in version 0.20 to 100 in 0.22.\n",
      "  \"10 in version 0.20 to 100 in 0.22.\", FutureWarning)\n"
     ]
    },
    {
     "data": {
      "image/png": "[encoded data removed]",
      "text/plain": [
       "<Figure size 432x288 with 1 Axes>"
      ]
     },
     "metadata": {},
     "output_type": "display_data"
    }
   ],
   "source": [
    "big_one[\"x\"] = big_one[\"geometry\"].x#.coords\n",
    "big_one[\"y\"] = big_one[\"geometry\"].y\n",
    "reg_data = big_one.dropna()[[\"city\", \"x\", \"y\", \"state_left\", \"state_right\", \"clean_energy_ratio\"]]\n",
    "\n",
    "reg_data[\"x\"] = pd.to_numeric(reg_data[\"x\"]).astype(int)\n",
    "reg_data[\"y\"] = pd.to_numeric(reg_data[\"y\"]).astype(int)\n",
    "reg_data[\"clean_energy_ratio\"] = (pd.to_numeric(reg_data[\"clean_energy_ratio\"])*100).astype(int)\n",
    "\n",
    "X_train, X_test, y_train, y_test = train_test_split(reg_data.dropna().drop(\"clean_energy_ratio\", axis=1), reg_data.dropna()[\"clean_energy_ratio\"], test_size=.33)\n",
    "ct = ColumnTransformer([(\"one-hot-encode\", OneHotEncoder(handle_unknown=\"ignore\"), [\"state_left\", \"state_right\"])])\n",
    "\n",
    "parameters = {\"max_depth\": [1, 2, 3, 4, 5]}\n",
    "svc = RandomForestRegressor()\n",
    "clf = GridSearchCV(svc, parameters, cv=5)\n",
    "\n",
    "pl = Pipeline([('column-transform', ct), ('svm',clf)])\n",
    "#ct = LinearRegression()\n",
    "\n",
    "#Model for Victim Number with ZIP and SEVERITY as the x\n",
    "pl.fit(X_train.drop(\"city\", axis=1), y_train) \n",
    "\n",
    "ax = plt.scatter(X_test[\"x\"], X_test[\"y\"], c=pl.predict(X_test.drop(\"city\", axis=1)).T, cmap=plt.cm.autumn)\n",
    "plt.title(\"Clean Energy Predicted by Location\")\n",
    "plt.xlabel(\"Longitude\")\n",
    "plt.ylabel(\"Latitude\")\n",
    "\n",
    "plt.show()"
   ]
  },
  {
   "cell_type": "code",
   "execution_count": 51,
   "metadata": {},
   "outputs": [
    {
     "data": {
      "text/plain": [
       "0.4976969571021066"
      ]
     },
     "execution_count": 51,
     "metadata": {},
     "output_type": "execute_result"
    }
   ],
   "source": [
    "pl.score(X_test.drop(\"city\", axis=1), y_test)"
   ]
  },
  {
   "cell_type": "markdown",
   "metadata": {},
   "source": [
    "### 9) Summary"
   ]
  },
  {
   "cell_type": "markdown",
   "metadata": {},
   "source": [
    "#### Maps and 200 words"
   ]
  },
  {
   "cell_type": "code",
   "execution_count": 52,
   "metadata": {},
   "outputs": [
    {
     "name": "stdout",
     "output_type": "stream",
     "text": [
      "676 cities at over 25% renewable energy\n",
      "354 cities at over 50% renewable energy\n",
      "167 cities at over 75% renewable energy\n"
     ]
    }
   ],
   "source": [
    "print( len(big_one[big_one.clean_energy_ratio > .25]), 'cities at over 25% renewable energy')\n",
    "print( len(big_one[big_one.clean_energy_ratio > .5]), 'cities at over 50% renewable energy')\n",
    "print( len(big_one[big_one.clean_energy_ratio > .75]), 'cities at over 75% renewable energy')\n"
   ]
  },
  {
   "cell_type": "code",
   "execution_count": 207,
   "metadata": {},
   "outputs": [
    {
     "data": {
      "application/vnd.jupyter.widget-view+json": {
       "model_id": "b5cf5e64758f472e85a5b812af1f3747",
       "version_major": 2,
       "version_minor": 0
      },
      "text/plain": [
       "MapView(layout=Layout(height='400px', width='100%'))"
      ]
     },
     "metadata": {},
     "output_type": "display_data"
    },
    {
     "data": {
      "text/html": [
       "<div class=\"map-static-img-preview-6ff2e87e-def1-45b1-99e0-3232e68687a6\"><img src=\"\"></img></div>"
      ],
      "text/plain": [
       "<IPython.core.display.HTML object>"
      ]
     },
     "metadata": {},
     "output_type": "display_data"
    }
   ],
   "source": [
    "sd = gis.map(\"San Diego\")\n",
    "sd.add_layer(zip_code_lyr)\n",
    "sd"
   ]
  },
  {
   "cell_type": "code",
   "execution_count": 208,
   "metadata": {},
   "outputs": [
    {
     "data": {
      "application/vnd.jupyter.widget-view+json": {
       "model_id": "b1124ad8bd0a4d2db50c7842ee9826fd",
       "version_major": 2,
       "version_minor": 0
      },
      "text/plain": [
       "MapView(layout=Layout(height='400px', width='100%'))"
      ]
     },
     "metadata": {},
     "output_type": "display_data"
    },
    {
     "data": {
      "text/html": [
       "<div class=\"map-static-img-preview-41538c0c-7e08-454e-9294-f39822a3f01e\"><img src=\"\"></img></div>"
      ],
      "text/plain": [
       "<IPython.core.display.HTML object>"
      ]
     },
     "metadata": {},
     "output_type": "display_data"
    }
   ],
   "source": [
    "m2 = gis.map('San Diego')\n",
    "m2.add_layer(id_lyr,{'renderer':'ClassedColorRenderer','field_name':'eiaid','opacity':0.75})\n",
    "m2"
   ]
  },
  {
   "cell_type": "code",
   "execution_count": 209,
   "metadata": {},
   "outputs": [
    {
     "data": {
      "application/vnd.jupyter.widget-view+json": {
       "model_id": "800f67b5629f481d9bc16aaa341b9620",
       "version_major": 2,
       "version_minor": 0
      },
      "text/plain": [
       "MapView(layout=Layout(height='400px', width='100%'))"
      ]
     },
     "metadata": {},
     "output_type": "display_data"
    },
    {
     "data": {
      "text/html": [
       "<div class=\"map-static-img-preview-99f05833-586e-414f-970c-af74d0490f5c\"><img src=\"\"></img></div>"
      ],
      "text/plain": [
       "<IPython.core.display.HTML object>"
      ]
     },
     "metadata": {},
     "output_type": "display_data"
    }
   ],
   "source": [
    "m3 = gis.map('San Diego')\n",
    "m3.add_layer(dissolved_lyr,{'renderer':'ClassedColorRenderer','field_name':'eiaid','opacity':0.5})\n",
    "m3"
   ]
  },
  {
   "cell_type": "code",
   "execution_count": 210,
   "metadata": {},
   "outputs": [
    {
     "data": {
      "application/vnd.jupyter.widget-view+json": {
       "model_id": "4c7a2815e69e465494747d79dfed332e",
       "version_major": 2,
       "version_minor": 0
      },
      "text/plain": [
       "MapView(layout=Layout(height='400px', width='100%'))"
      ]
     },
     "metadata": {},
     "output_type": "display_data"
    },
    {
     "data": {
      "text/html": [
       "<div class=\"map-static-img-preview-d77f5b65-9af9-47d1-8575-b854f92c2306\"><img src=\"\"></img></div>"
      ],
      "text/plain": [
       "<IPython.core.display.HTML object>"
      ]
     },
     "metadata": {},
     "output_type": "display_data"
    }
   ],
   "source": [
    "m4 = gis.map('San Diego')\n",
    "m4.add_layer(power_plants_lyr,{'renderer':'ClassedColorRenderer','field_name':'Utility_ID','opacity':0.75, 'cmap': 'Grn'})\n",
    "m4.add_layer(cities_lyr)\n",
    "m4"
   ]
  },
  {
   "cell_type": "code",
   "execution_count": 211,
   "metadata": {},
   "outputs": [
    {
     "data": {
      "application/vnd.jupyter.widget-view+json": {
       "model_id": "7b0d0a83d708400880cb133ae8baa6c5",
       "version_major": 2,
       "version_minor": 0
      },
      "text/plain": [
       "MapView(layout=Layout(height='400px', width='100%'))"
      ]
     },
     "metadata": {},
     "output_type": "display_data"
    },
    {
     "data": {
      "text/html": [
       "<div class=\"map-static-img-preview-d8039ce2-209a-4ea0-9349-901e65b3dec2\"><img src=\"\"></img></div>"
      ],
      "text/plain": [
       "<IPython.core.display.HTML object>"
      ]
     },
     "metadata": {},
     "output_type": "display_data"
    }
   ],
   "source": [
    "m5 = gis.map('San Diego')\n",
    "m5.add_layer(dissolved_lyr,{'renderer':'ClassedColorRenderer','field_name':'eiaid','opacity':0.5})\n",
    "m5.add_layer(power_plants_lyr,{'renderer':'ClassedColorRenderer','field_name':'Utility_ID','opacity':0.75, 'cmap': 'Grn'})\n",
    "m5.add_layer(cities_lyr)\n",
    "m5"
   ]
  },
  {
   "cell_type": "markdown",
   "metadata": {},
   "source": [
    "### 10) Discussion"
   ]
  },
  {
   "cell_type": "markdown",
   "metadata": {},
   "source": [
    "1) Discuss your findings with respect to the literature sources in section 3. What do the results mean in the context of what is already known? What is new? Does it validate what was found in literature? How do your results improve our understanding of the problem? "
   ]
  },
  {
   "cell_type": "markdown",
   "metadata": {},
   "source": [
    "A lot of cities have a relatively high percentage of renewable sources of energy. Most major cities use about 50% of their energy from renewable sources. We do not have a historical data source that we studied but we do a google search and found that renewable energy sources with cities in California did increase from roughly 10 years ago. So now we understand the trend of most US cities, seems that regional/locational factors seem to influence the ratio of renewable energy in a city (From the regression)."
   ]
  },
  {
   "cell_type": "markdown",
   "metadata": {},
   "source": [
    "2) Of particular importance is a discussion of any trade-offs and decision points that you had to consider. This may include a discussion of any performance issues, width of buffers you applied, projections you chose, spatial operations you used, map combination techniques, and other issues we discussed in class."
   ]
  },
  {
   "cell_type": "markdown",
   "metadata": {},
   "source": [
    "Some of the zipcode double counted utilities and our data is based on how much energy a power plant generated total. So if a power plant barely serves the zipcode of one cities then it will split the energy it provides to the city 50/50 which isn't accurate. But that's not really easily checked since the power of city gets depends on each resident not necessarily on the city its or the spatial analysis we did. Also we don't have accurate information between what energy a power plant produced and how much they bought from other utilities. Our data only has the total power each power plant to a US city. This lead to some inconsisities we found with some power plants, like SDGE (in our data it says .496% clean energy but it produced roughly 40% of its energy as renewable)"
   ]
  },
  {
   "cell_type": "markdown",
   "metadata": {},
   "source": [
    "### 11) Conclusions and future work"
   ]
  },
  {
   "cell_type": "markdown",
   "metadata": {},
   "source": [
    "#### At least 200 words"
   ]
  },
  {
   "cell_type": "markdown",
   "metadata": {},
   "source": [
    "1) Did you manage to completely answer your initial research question? If not, what additional data and additional analysis steps can you think of? Can your approach be extended to other areas or topics, and use additional datasets? How do you expect the results to be used and by whom?\n"
   ]
  },
  {
   "cell_type": "markdown",
   "metadata": {},
   "source": [
    "We didn't complete"
   ]
  },
  {
   "cell_type": "markdown",
   "metadata": {},
   "source": [
    "# The mean of the cities clean energy ratio is 32%\n",
    "\n",
    "### That's much higher than the 12.2 percentage of renewable sources in US cities in 2016.\n",
    "\n",
    "### That's a much higher increase and shows a growth of solar projects.\n",
    "\n",
    "### But also we treat each city equal in our mean analysis, which isn't realistic to the actual model we observed (some US cities use much more energy). So there's a Simpson's paradox, incorrect weights on the average."
   ]
  },
  {
   "cell_type": "code",
   "execution_count": null,
   "metadata": {},
   "outputs": [],
   "source": []
  }
 ],
 "metadata": {
  "kernelspec": {
   "display_name": "Python 3",
   "language": "python",
   "name": "python3"
  },
  "language_info": {
   "codemirror_mode": {
    "name": "ipython",
    "version": 3
   },
   "file_extension": ".py",
   "mimetype": "text/x-python",
   "name": "python",
   "nbconvert_exporter": "python",
   "pygments_lexer": "ipython3",
   "version": "3.7.3"
  }
 },
 "nbformat": 4,
 "nbformat_minor": 2
}
